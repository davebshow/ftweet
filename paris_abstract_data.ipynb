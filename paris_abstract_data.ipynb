{
 "cells": [
  {
   "cell_type": "code",
   "execution_count": 1,
   "metadata": {
    "collapsed": false
   },
   "outputs": [
    {
     "name": "stderr",
     "output_type": "stream",
     "text": [
      "/home/davebshow/.virtualenvs/scientific3/lib/python3.4/site-packages/IPython/config.py:13: ShimWarning: The `IPython.config` package has been deprecated. You should import from traitlets.config instead.\n",
      "  \"You should import from traitlets.config instead.\", ShimWarning)\n",
      "/home/davebshow/.virtualenvs/scientific3/lib/python3.4/site-packages/IPython/utils/traitlets.py:5: UserWarning: IPython.utils.traitlets has moved to a top-level traitlets package.\n",
      "  warn(\"IPython.utils.traitlets has moved to a top-level traitlets package.\")\n"
     ]
    }
   ],
   "source": [
    "%load_ext cypher\n",
    "%matplotlib inline\n",
    "import pandas as pd"
   ]
  },
  {
   "cell_type": "markdown",
   "metadata": {},
   "source": [
    "### Number of Tweets"
   ]
  },
  {
   "cell_type": "code",
   "execution_count": 3,
   "metadata": {
    "collapsed": false
   },
   "outputs": [
    {
     "name": "stdout",
     "output_type": "stream",
     "text": [
      "1 rows affected.\n"
     ]
    },
    {
     "data": {
      "text/html": [
       "<table>\n",
       "    <tr>\n",
       "        <th>count(n)</th>\n",
       "    </tr>\n",
       "    <tr>\n",
       "        <td>4306752</td>\n",
       "    </tr>\n",
       "</table>"
      ],
      "text/plain": [
       "[[4306752]]"
      ]
     },
     "execution_count": 3,
     "metadata": {},
     "output_type": "execute_result"
    }
   ],
   "source": [
    "%cypher match (n:tweet) return count(n)"
   ]
  },
  {
   "cell_type": "markdown",
   "metadata": {},
   "source": [
    "### Number of users"
   ]
  },
  {
   "cell_type": "code",
   "execution_count": 4,
   "metadata": {
    "collapsed": false
   },
   "outputs": [
    {
     "name": "stdout",
     "output_type": "stream",
     "text": [
      "1 rows affected.\n"
     ]
    },
    {
     "data": {
      "text/html": [
       "<table>\n",
       "    <tr>\n",
       "        <th>count(u)</th>\n",
       "    </tr>\n",
       "    <tr>\n",
       "        <td>2531874</td>\n",
       "    </tr>\n",
       "</table>"
      ],
      "text/plain": [
       "[[2531874]]"
      ]
     },
     "execution_count": 4,
     "metadata": {},
     "output_type": "execute_result"
    }
   ],
   "source": [
    "%cypher match (u:user) return count(u)"
   ]
  },
  {
   "cell_type": "markdown",
   "metadata": {},
   "source": [
    "### Top Tweets"
   ]
  },
  {
   "cell_type": "code",
   "execution_count": 5,
   "metadata": {
    "collapsed": false,
    "scrolled": true
   },
   "outputs": [
    {
     "name": "stdout",
     "output_type": "stream",
     "text": [
      "10 rows affected.\n"
     ]
    },
    {
     "data": {
      "text/html": [
       "<table>\n",
       "    <tr>\n",
       "        <th>user</th>\n",
       "        <th>tid</th>\n",
       "        <th>tweet</th>\n",
       "        <th>deg</th>\n",
       "    </tr>\n",
       "    <tr>\n",
       "        <td>Louis_Tomlinson</td>\n",
       "        <td>665496205854687232</td>\n",
       "        <td>Thoughts go out to e</td>\n",
       "        <td>38200</td>\n",
       "    </tr>\n",
       "    <tr>\n",
       "        <td>NiallOfficial</td>\n",
       "        <td>665322019291013120</td>\n",
       "        <td>thoughts and prayers</td>\n",
       "        <td>27828</td>\n",
       "    </tr>\n",
       "    <tr>\n",
       "        <td>Harry_Styles</td>\n",
       "        <td>665284325542371329</td>\n",
       "        <td>Thinking of everyone</td>\n",
       "        <td>22159</td>\n",
       "    </tr>\n",
       "    <tr>\n",
       "        <td>justinbieber</td>\n",
       "        <td>665334709996523520</td>\n",
       "        <td>Had a great first sh</td>\n",
       "        <td>17658</td>\n",
       "    </tr>\n",
       "    <tr>\n",
       "        <td>Michael5SOS</td>\n",
       "        <td>665336782418919425</td>\n",
       "        <td>all of my love and p</td>\n",
       "        <td>16861</td>\n",
       "    </tr>\n",
       "    <tr>\n",
       "        <td>RFCdan</td>\n",
       "        <td>665302723592519680</td>\n",
       "        <td>To people blaming re</td>\n",
       "        <td>14071</td>\n",
       "    </tr>\n",
       "    <tr>\n",
       "        <td>jean_jullien</td>\n",
       "        <td>665305363500011521</td>\n",
       "        <td>Peace for Paris http</td>\n",
       "        <td>13472</td>\n",
       "    </tr>\n",
       "    <tr>\n",
       "        <td>KingSalman</td>\n",
       "        <td>665642882125209601</td>\n",
       "        <td>Paris massacre is an</td>\n",
       "        <td>12739</td>\n",
       "    </tr>\n",
       "    <tr>\n",
       "        <td>Calum5SOS</td>\n",
       "        <td>665313435383672832</td>\n",
       "        <td>Please, pray for Par</td>\n",
       "        <td>12263</td>\n",
       "    </tr>\n",
       "    <tr>\n",
       "        <td>taylorswift13</td>\n",
       "        <td>665442458872979460</td>\n",
       "        <td>Praying for Paris. O</td>\n",
       "        <td>11637</td>\n",
       "    </tr>\n",
       "</table>"
      ],
      "text/plain": [
       "[['Louis_Tomlinson', '665496205854687232', 'Thoughts go out to e', 38200],\n",
       " ['NiallOfficial', '665322019291013120', 'thoughts and prayers', 27828],\n",
       " ['Harry_Styles', '665284325542371329', 'Thinking of everyone', 22159],\n",
       " ['justinbieber', '665334709996523520', 'Had a great first sh', 17658],\n",
       " ['Michael5SOS', '665336782418919425', 'all of my love and p', 16861],\n",
       " ['RFCdan', '665302723592519680', 'To people blaming re', 14071],\n",
       " ['jean_jullien', '665305363500011521', 'Peace for Paris http', 13472],\n",
       " ['KingSalman', '665642882125209601', 'Paris massacre is an', 12739],\n",
       " ['Calum5SOS', '665313435383672832', 'Please, pray for Par', 12263],\n",
       " ['taylorswift13', '665442458872979460', 'Praying for Paris. O', 11637]]"
      ]
     },
     "execution_count": 5,
     "metadata": {},
     "output_type": "execute_result"
    }
   ],
   "source": [
    "%%cypher\n",
    "match (n:tweet)-[r]-()\n",
    "with n, count(r) as deg\n",
    "order by deg desc\n",
    "limit 10\n",
    "match (n)<-[:TWEETS]-(u:user)\n",
    "return u.screen_name as user, n.tid as tid, substring(n.text, 0, 20) as tweet, deg"
   ]
  },
  {
   "cell_type": "markdown",
   "metadata": {},
   "source": [
    "### Top Users"
   ]
  },
  {
   "cell_type": "code",
   "execution_count": 4,
   "metadata": {
    "collapsed": false
   },
   "outputs": [
    {
     "name": "stdout",
     "output_type": "stream",
     "text": [
      "10 rows affected.\n"
     ]
    },
    {
     "data": {
      "text/html": [
       "<table>\n",
       "    <tr>\n",
       "        <th>user</th>\n",
       "        <th>n.uid</th>\n",
       "        <th>deg</th>\n",
       "    </tr>\n",
       "    <tr>\n",
       "        <td>Louis_Tomlinson</td>\n",
       "        <td>84279963</td>\n",
       "        <td>38335</td>\n",
       "    </tr>\n",
       "    <tr>\n",
       "        <td>NiallOfficial</td>\n",
       "        <td>105119490</td>\n",
       "        <td>28089</td>\n",
       "    </tr>\n",
       "    <tr>\n",
       "        <td>RecherchesP</td>\n",
       "        <td>4185722537</td>\n",
       "        <td>23333</td>\n",
       "    </tr>\n",
       "    <tr>\n",
       "        <td>Harry_Styles</td>\n",
       "        <td>181561712</td>\n",
       "        <td>22686</td>\n",
       "    </tr>\n",
       "    <tr>\n",
       "        <td>infos140</td>\n",
       "        <td>1356382759</td>\n",
       "        <td>21227</td>\n",
       "    </tr>\n",
       "    <tr>\n",
       "        <td>justinbieber</td>\n",
       "        <td>27260086</td>\n",
       "        <td>21020</td>\n",
       "    </tr>\n",
       "    <tr>\n",
       "        <td>nytimes</td>\n",
       "        <td>807095</td>\n",
       "        <td>18266</td>\n",
       "    </tr>\n",
       "    <tr>\n",
       "        <td>AP</td>\n",
       "        <td>51241574</td>\n",
       "        <td>17747</td>\n",
       "    </tr>\n",
       "    <tr>\n",
       "        <td>jean_jullien</td>\n",
       "        <td>1851229334</td>\n",
       "        <td>17530</td>\n",
       "    </tr>\n",
       "    <tr>\n",
       "        <td>Michael5SOS</td>\n",
       "        <td>403246803</td>\n",
       "        <td>16901</td>\n",
       "    </tr>\n",
       "</table>"
      ],
      "text/plain": [
       "[['Louis_Tomlinson', '84279963', 38335],\n",
       " ['NiallOfficial', '105119490', 28089],\n",
       " ['RecherchesP', '4185722537', 23333],\n",
       " ['Harry_Styles', '181561712', 22686],\n",
       " ['infos140', '1356382759', 21227],\n",
       " ['justinbieber', '27260086', 21020],\n",
       " ['nytimes', '807095', 18266],\n",
       " ['AP', '51241574', 17747],\n",
       " ['jean_jullien', '1851229334', 17530],\n",
       " ['Michael5SOS', '403246803', 16901]]"
      ]
     },
     "execution_count": 4,
     "metadata": {},
     "output_type": "execute_result"
    }
   ],
   "source": [
    "%%cypher\n",
    "match (n:user)-[r]-()\n",
    "return n.screen_name as user, n.uid, count(r) as deg\n",
    "order by deg desc\n",
    "limit 10"
   ]
  },
  {
   "cell_type": "markdown",
   "metadata": {},
   "source": [
    "### Top Tags"
   ]
  },
  {
   "cell_type": "code",
   "execution_count": 32,
   "metadata": {
    "collapsed": false
   },
   "outputs": [
    {
     "name": "stdout",
     "output_type": "stream",
     "text": [
      "10 rows affected.\n"
     ]
    },
    {
     "data": {
      "text/html": [
       "<table>\n",
       "    <tr>\n",
       "        <th>hashtags</th>\n",
       "        <th>deg</th>\n",
       "    </tr>\n",
       "    <tr>\n",
       "        <td>paris</td>\n",
       "        <td>719571</td>\n",
       "    </tr>\n",
       "    <tr>\n",
       "        <td>prayforparis</td>\n",
       "        <td>368931</td>\n",
       "    </tr>\n",
       "    <tr>\n",
       "        <td>parisattacks</td>\n",
       "        <td>206159</td>\n",
       "    </tr>\n",
       "    <tr>\n",
       "        <td>prayers4paris</td>\n",
       "        <td>52805</td>\n",
       "    </tr>\n",
       "    <tr>\n",
       "        <td>bataclan</td>\n",
       "        <td>51524</td>\n",
       "    </tr>\n",
       "    <tr>\n",
       "        <td>rechercheparis</td>\n",
       "        <td>46333</td>\n",
       "    </tr>\n",
       "    <tr>\n",
       "        <td>prayersforparis</td>\n",
       "        <td>31736</td>\n",
       "    </tr>\n",
       "    <tr>\n",
       "        <td>france</td>\n",
       "        <td>31605</td>\n",
       "    </tr>\n",
       "    <tr>\n",
       "        <td>porteouverte</td>\n",
       "        <td>30484</td>\n",
       "    </tr>\n",
       "    <tr>\n",
       "        <td>fusillade</td>\n",
       "        <td>27833</td>\n",
       "    </tr>\n",
       "</table>"
      ],
      "text/plain": [
       "[['paris', 719571],\n",
       " ['prayforparis', 368931],\n",
       " ['parisattacks', 206159],\n",
       " ['prayers4paris', 52805],\n",
       " ['bataclan', 51524],\n",
       " ['rechercheparis', 46333],\n",
       " ['prayersforparis', 31736],\n",
       " ['france', 31605],\n",
       " ['porteouverte', 30484],\n",
       " ['fusillade', 27833]]"
      ]
     },
     "execution_count": 32,
     "metadata": {},
     "output_type": "execute_result"
    }
   ],
   "source": [
    "%%cypher\n",
    "match (n:hashtag)-[r]-()\n",
    "return n.hashtag as hashtags, count(r) as deg\n",
    "order by deg desc\n",
    "limit 10"
   ]
  },
  {
   "cell_type": "markdown",
   "metadata": {},
   "source": [
    "### Language data"
   ]
  },
  {
   "cell_type": "code",
   "execution_count": 6,
   "metadata": {
    "collapsed": false
   },
   "outputs": [
    {
     "name": "stdout",
     "output_type": "stream",
     "text": [
      "59 rows affected.\n"
     ]
    }
   ],
   "source": [
    "langs = %cypher match (n:tweet) where n.lang is not null return distinct n.lang, count(*) as num_tweets order by num_tweets desc"
   ]
  },
  {
   "cell_type": "code",
   "execution_count": 21,
   "metadata": {
    "collapsed": false
   },
   "outputs": [
    {
     "data": {
      "text/plain": [
       "<matplotlib.axes._subplots.AxesSubplot at 0x7f3701e70f60>"
      ]
     },
     "execution_count": 21,
     "metadata": {},
     "output_type": "execute_result"
    },
    {
     "data": {
      "image/png": "[encoded data removed]",
      "text/plain": [
       "<matplotlib.figure.Figure at 0x7f3701dd34a8>"
      ]
     },
     "metadata": {},
     "output_type": "display_data"
    }
   ],
   "source": [
    "lang_df = langs.get_dataframe()\n",
    "lang_df.set_index(\"n.lang\")[:10].plot(kind=\"bar\")"
   ]
  },
  {
   "cell_type": "markdown",
   "metadata": {},
   "source": [
    "### % of tweets with geotags"
   ]
  },
  {
   "cell_type": "code",
   "execution_count": 41,
   "metadata": {
    "collapsed": false
   },
   "outputs": [
    {
     "name": "stdout",
     "output_type": "stream",
     "text": [
      "1 rows affected.\n"
     ]
    },
    {
     "data": {
      "text/html": [
       "<table>\n",
       "    <tr>\n",
       "        <th>count(n)</th>\n",
       "    </tr>\n",
       "    <tr>\n",
       "        <td>4306752</td>\n",
       "    </tr>\n",
       "</table>"
      ],
      "text/plain": [
       "[[4306752]]"
      ]
     },
     "execution_count": 41,
     "metadata": {},
     "output_type": "execute_result"
    }
   ],
   "source": [
    "%cypher match (n:tweet) return count(n)"
   ]
  },
  {
   "cell_type": "code",
   "execution_count": 42,
   "metadata": {
    "collapsed": false
   },
   "outputs": [
    {
     "name": "stdout",
     "output_type": "stream",
     "text": [
      "1 rows affected.\n"
     ]
    },
    {
     "data": {
      "text/html": [
       "<table>\n",
       "    <tr>\n",
       "        <th>count(n)</th>\n",
       "    </tr>\n",
       "    <tr>\n",
       "        <td>55881</td>\n",
       "    </tr>\n",
       "</table>"
      ],
      "text/plain": [
       "[[55881]]"
      ]
     },
     "execution_count": 42,
     "metadata": {},
     "output_type": "execute_result"
    }
   ],
   "source": [
    "%cypher match (n:tweet) where n.coordinates is not null return count(n)"
   ]
  },
  {
   "cell_type": "code",
   "execution_count": 44,
   "metadata": {
    "collapsed": false
   },
   "outputs": [
    {
     "data": {
      "text/plain": [
       "0.012975207302394008"
      ]
     },
     "execution_count": 44,
     "metadata": {},
     "output_type": "execute_result"
    }
   ],
   "source": [
    "55881 / 4306752.0  # 1.2%"
   ]
  },
  {
   "cell_type": "markdown",
   "metadata": {},
   "source": [
    "### Tweets by country"
   ]
  },
  {
   "cell_type": "code",
   "execution_count": 37,
   "metadata": {
    "collapsed": false
   },
   "outputs": [
    {
     "name": "stdout",
     "output_type": "stream",
     "text": [
      "193 rows affected.\n"
     ]
    }
   ],
   "source": [
    "countries = %cypher match (n:tweet) where n.coordinates is not null return distinct n.country, count(*) as num_tweets order by num_tweets desc"
   ]
  },
  {
   "cell_type": "code",
   "execution_count": 48,
   "metadata": {
    "collapsed": false
   },
   "outputs": [],
   "source": [
    "countries_df = countries.get_dataframe()"
   ]
  },
  {
   "cell_type": "code",
   "execution_count": 51,
   "metadata": {
    "collapsed": false
   },
   "outputs": [
    {
     "data": {
      "text/plain": [
       "<matplotlib.axes._subplots.AxesSubplot at 0x7f3701c30d68>"
      ]
     },
     "execution_count": 51,
     "metadata": {},
     "output_type": "execute_result"
    },
    {
     "data": {
      "image/png": "[encoded data removed]",
      "text/plain": [
       "<matplotlib.figure.Figure at 0x7f3701963b00>"
      ]
     },
     "metadata": {},
     "output_type": "display_data"
    }
   ],
   "source": [
    "countries_df.set_index(\"n.country\")[:20].plot(kind=\"bar\")"
   ]
  },
  {
   "cell_type": "markdown",
   "metadata": {},
   "source": [
    "### Average sentiment in English"
   ]
  },
  {
   "cell_type": "code",
   "execution_count": 56,
   "metadata": {
    "collapsed": false
   },
   "outputs": [
    {
     "name": "stdout",
     "output_type": "stream",
     "text": [
      "1 rows affected.\n"
     ]
    },
    {
     "data": {
      "text/html": [
       "<table>\n",
       "    <tr>\n",
       "        <th>average_en_polarity</th>\n",
       "    </tr>\n",
       "    <tr>\n",
       "        <td>0.013533890799815687</td>\n",
       "    </tr>\n",
       "</table>"
      ],
      "text/plain": [
       "[[0.013533890799815687]]"
      ]
     },
     "execution_count": 56,
     "metadata": {},
     "output_type": "execute_result"
    }
   ],
   "source": [
    "%cypher match (n:tweet) where n.lang = \"en\" return avg(n.polarity) as average_en_polarity"
   ]
  },
  {
   "cell_type": "code",
   "execution_count": 57,
   "metadata": {
    "collapsed": false
   },
   "outputs": [
    {
     "name": "stdout",
     "output_type": "stream",
     "text": [
      "1 rows affected.\n"
     ]
    },
    {
     "data": {
      "text/html": [
       "<table>\n",
       "    <tr>\n",
       "        <th>average_en_subjectivity</th>\n",
       "    </tr>\n",
       "    <tr>\n",
       "        <td>0.2964692099365155</td>\n",
       "    </tr>\n",
       "</table>"
      ],
      "text/plain": [
       "[[0.2964692099365155]]"
      ]
     },
     "execution_count": 57,
     "metadata": {},
     "output_type": "execute_result"
    }
   ],
   "source": [
    "%cypher match (n:tweet) where n.lang = \"en\" return avg(n.subjectivity) as average_en_subjectivity"
   ]
  },
  {
   "cell_type": "markdown",
   "metadata": {},
   "source": [
    "### Average sentiment in French"
   ]
  },
  {
   "cell_type": "code",
   "execution_count": 58,
   "metadata": {
    "collapsed": false
   },
   "outputs": [
    {
     "name": "stdout",
     "output_type": "stream",
     "text": [
      "1 rows affected.\n"
     ]
    },
    {
     "data": {
      "text/html": [
       "<table>\n",
       "    <tr>\n",
       "        <th>average_fr_polarity</th>\n",
       "    </tr>\n",
       "    <tr>\n",
       "        <td>0.033514273832053354</td>\n",
       "    </tr>\n",
       "</table>"
      ],
      "text/plain": [
       "[[0.033514273832053354]]"
      ]
     },
     "execution_count": 58,
     "metadata": {},
     "output_type": "execute_result"
    }
   ],
   "source": [
    "%cypher match (n:tweet) where n.lang = \"fr\" return avg(n.polarity) as average_fr_polarity"
   ]
  },
  {
   "cell_type": "code",
   "execution_count": 59,
   "metadata": {
    "collapsed": false
   },
   "outputs": [
    {
     "name": "stdout",
     "output_type": "stream",
     "text": [
      "1 rows affected.\n"
     ]
    },
    {
     "data": {
      "text/html": [
       "<table>\n",
       "    <tr>\n",
       "        <th>average_fr_subjectivity</th>\n",
       "    </tr>\n",
       "    <tr>\n",
       "        <td>0.3372897579084551</td>\n",
       "    </tr>\n",
       "</table>"
      ],
      "text/plain": [
       "[[0.3372897579084551]]"
      ]
     },
     "execution_count": 59,
     "metadata": {},
     "output_type": "execute_result"
    }
   ],
   "source": [
    "%cypher match (n:tweet) where n.lang = \"fr\" return avg(n.subjectivity) as average_fr_subjectivity"
   ]
  },
  {
   "cell_type": "code",
   "execution_count": null,
   "metadata": {
    "collapsed": true
   },
   "outputs": [],
   "source": []
  }
 ],
 "metadata": {
  "kernelspec": {
   "display_name": "Python 3",
   "language": "python",
   "name": "python3"
  },
  "language_info": {
   "codemirror_mode": {
    "name": "ipython",
    "version": 3
   },
   "file_extension": ".py",
   "mimetype": "text/x-python",
   "name": "python",
   "nbconvert_exporter": "python",
   "pygments_lexer": "ipython3",
   "version": "3.4.3"
  }
 },
 "nbformat": 4,
 "nbformat_minor": 0
}
