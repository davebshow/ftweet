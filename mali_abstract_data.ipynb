{
 "cells": [
  {
   "cell_type": "code",
   "execution_count": 1,
   "metadata": {
    "collapsed": false
   },
   "outputs": [
    {
     "name": "stderr",
     "output_type": "stream",
     "text": [
      "/home/davebshow/.virtualenvs/scientific3/lib/python3.4/site-packages/IPython/config.py:13: ShimWarning: The `IPython.config` package has been deprecated. You should import from traitlets.config instead.\n",
      "  \"You should import from traitlets.config instead.\", ShimWarning)\n",
      "/home/davebshow/.virtualenvs/scientific3/lib/python3.4/site-packages/IPython/utils/traitlets.py:5: UserWarning: IPython.utils.traitlets has moved to a top-level traitlets package.\n",
      "  warn(\"IPython.utils.traitlets has moved to a top-level traitlets package.\")\n"
     ]
    }
   ],
   "source": [
    "%load_ext cypher\n",
    "%matplotlib inline\n",
    "import pandas as pd"
   ]
  },
  {
   "cell_type": "markdown",
   "metadata": {},
   "source": [
    "### Number of Tweets"
   ]
  },
  {
   "cell_type": "code",
   "execution_count": 2,
   "metadata": {
    "collapsed": false
   },
   "outputs": [
    {
     "name": "stdout",
     "output_type": "stream",
     "text": [
      "1 rows affected.\n"
     ]
    },
    {
     "data": {
      "text/html": [
       "<table>\n",
       "    <tr>\n",
       "        <th>count(n)</th>\n",
       "    </tr>\n",
       "    <tr>\n",
       "        <td>608049</td>\n",
       "    </tr>\n",
       "</table>"
      ],
      "text/plain": [
       "[[608049]]"
      ]
     },
     "execution_count": 2,
     "metadata": {},
     "output_type": "execute_result"
    }
   ],
   "source": [
    "%cypher match (n:tweet) return count(n)"
   ]
  },
  {
   "cell_type": "markdown",
   "metadata": {},
   "source": [
    "### Number of users"
   ]
  },
  {
   "cell_type": "code",
   "execution_count": 3,
   "metadata": {
    "collapsed": false
   },
   "outputs": [
    {
     "name": "stdout",
     "output_type": "stream",
     "text": [
      "1 rows affected.\n"
     ]
    },
    {
     "data": {
      "text/html": [
       "<table>\n",
       "    <tr>\n",
       "        <th>count(u)</th>\n",
       "    </tr>\n",
       "    <tr>\n",
       "        <td>293584</td>\n",
       "    </tr>\n",
       "</table>"
      ],
      "text/plain": [
       "[[293584]]"
      ]
     },
     "execution_count": 3,
     "metadata": {},
     "output_type": "execute_result"
    }
   ],
   "source": [
    "%cypher match (u:user) return count(u)"
   ]
  },
  {
   "cell_type": "markdown",
   "metadata": {},
   "source": [
    "### Top Tweets"
   ]
  },
  {
   "cell_type": "code",
   "execution_count": 4,
   "metadata": {
    "collapsed": false
   },
   "outputs": [
    {
     "name": "stdout",
     "output_type": "stream",
     "text": [
      "10 rows affected.\n"
     ]
    },
    {
     "data": {
      "text/html": [
       "<table>\n",
       "    <tr>\n",
       "        <th>user</th>\n",
       "        <th>tid</th>\n",
       "        <th>tweet</th>\n",
       "        <th>deg</th>\n",
       "    </tr>\n",
       "    <tr>\n",
       "        <td>DXXMIEN</td>\n",
       "        <td>667804078160912384</td>\n",
       "        <td>Le bilan de la prise</td>\n",
       "        <td>3101</td>\n",
       "    </tr>\n",
       "    <tr>\n",
       "        <td>SushmaSwaraj</td>\n",
       "        <td>667749009692356609</td>\n",
       "        <td>All 20 Indians rescu</td>\n",
       "        <td>1878</td>\n",
       "    </tr>\n",
       "    <tr>\n",
       "        <td>xavieraldekoa</td>\n",
       "        <td>667803133347807232</td>\n",
       "        <td>Hay fotos que valen </td>\n",
       "        <td>1750</td>\n",
       "    </tr>\n",
       "    <tr>\n",
       "        <td>Methone</td>\n",
       "        <td>667813005166424064</td>\n",
       "        <td>Geiselnahme in Mali:</td>\n",
       "        <td>1481</td>\n",
       "    </tr>\n",
       "    <tr>\n",
       "        <td>Adel__Almalki</td>\n",
       "        <td>667806449477652480</td>\n",
       "        <td>#Photo by #almalki G</td>\n",
       "        <td>1424</td>\n",
       "    </tr>\n",
       "    <tr>\n",
       "        <td>MehmetAkifOkur</td>\n",
       "        <td>667745075791847424</td>\n",
       "        <td>Ekranlara bakınca Tü</td>\n",
       "        <td>1278</td>\n",
       "    </tr>\n",
       "    <tr>\n",
       "        <td>philstockworld</td>\n",
       "        <td>667757707613614080</td>\n",
       "        <td>Draghi Fever Helps u</td>\n",
       "        <td>1171</td>\n",
       "    </tr>\n",
       "    <tr>\n",
       "        <td>AndreaRussett</td>\n",
       "        <td>667679902796247040</td>\n",
       "        <td>I pray that one day </td>\n",
       "        <td>1131</td>\n",
       "    </tr>\n",
       "    <tr>\n",
       "        <td>ShujaRabbani</td>\n",
       "        <td>667926175088377856</td>\n",
       "        <td>Must see this! :-) #</td>\n",
       "        <td>1108</td>\n",
       "    </tr>\n",
       "    <tr>\n",
       "        <td>Christ_Morray</td>\n",
       "        <td>667686371449044992</td>\n",
       "        <td>Doit on sérieusement</td>\n",
       "        <td>1084</td>\n",
       "    </tr>\n",
       "</table>"
      ],
      "text/plain": [
       "[['DXXMIEN', '667804078160912384', 'Le bilan de la prise', 3101],\n",
       " ['SushmaSwaraj', '667749009692356609', 'All 20 Indians rescu', 1878],\n",
       " ['xavieraldekoa', '667803133347807232', 'Hay fotos que valen ', 1750],\n",
       " ['Methone', '667813005166424064', 'Geiselnahme in Mali:', 1481],\n",
       " ['Adel__Almalki', '667806449477652480', '#Photo by #almalki G', 1424],\n",
       " ['MehmetAkifOkur', '667745075791847424', 'Ekranlara bakınca Tü', 1278],\n",
       " ['philstockworld', '667757707613614080', 'Draghi Fever Helps u', 1171],\n",
       " ['AndreaRussett', '667679902796247040', 'I pray that one day ', 1131],\n",
       " ['ShujaRabbani', '667926175088377856', 'Must see this! :-) #', 1108],\n",
       " ['Christ_Morray', '667686371449044992', 'Doit on sérieusement', 1084]]"
      ]
     },
     "execution_count": 4,
     "metadata": {},
     "output_type": "execute_result"
    }
   ],
   "source": [
    "%%cypher\n",
    "match (n:tweet)-[r]-()\n",
    "with n, count(r) as deg\n",
    "order by deg desc\n",
    "limit 10\n",
    "match (n)<-[:TWEETS]-(u:user)\n",
    "return u.screen_name as user, n.tid as tid, substring(n.text, 0, 20) as tweet, deg"
   ]
  },
  {
   "cell_type": "markdown",
   "metadata": {},
   "source": [
    "### Top Users"
   ]
  },
  {
   "cell_type": "code",
   "execution_count": 5,
   "metadata": {
    "collapsed": false
   },
   "outputs": [
    {
     "name": "stdout",
     "output_type": "stream",
     "text": [
      "10 rows affected.\n"
     ]
    },
    {
     "data": {
      "text/html": [
       "<table>\n",
       "    <tr>\n",
       "        <th>user</th>\n",
       "        <th>deg</th>\n",
       "    </tr>\n",
       "    <tr>\n",
       "        <td>Reuters</td>\n",
       "        <td>4424</td>\n",
       "    </tr>\n",
       "    <tr>\n",
       "        <td>justJasemine</td>\n",
       "        <td>3417</td>\n",
       "    </tr>\n",
       "    <tr>\n",
       "        <td>AFP</td>\n",
       "        <td>3370</td>\n",
       "    </tr>\n",
       "    <tr>\n",
       "        <td>CNN</td>\n",
       "        <td>3303</td>\n",
       "    </tr>\n",
       "    <tr>\n",
       "        <td>wespermee</td>\n",
       "        <td>3301</td>\n",
       "    </tr>\n",
       "    <tr>\n",
       "        <td>AP</td>\n",
       "        <td>3196</td>\n",
       "    </tr>\n",
       "    <tr>\n",
       "        <td>cnnbrk</td>\n",
       "        <td>3187</td>\n",
       "    </tr>\n",
       "    <tr>\n",
       "        <td>iiChattermeii</td>\n",
       "        <td>3165</td>\n",
       "    </tr>\n",
       "    <tr>\n",
       "        <td>DXXMIEN</td>\n",
       "        <td>3100</td>\n",
       "    </tr>\n",
       "    <tr>\n",
       "        <td>BBCBreaking</td>\n",
       "        <td>2785</td>\n",
       "    </tr>\n",
       "</table>"
      ],
      "text/plain": [
       "[['Reuters', 4424],\n",
       " ['justJasemine', 3417],\n",
       " ['AFP', 3370],\n",
       " ['CNN', 3303],\n",
       " ['wespermee', 3301],\n",
       " ['AP', 3196],\n",
       " ['cnnbrk', 3187],\n",
       " ['iiChattermeii', 3165],\n",
       " ['DXXMIEN', 3100],\n",
       " ['BBCBreaking', 2785]]"
      ]
     },
     "execution_count": 5,
     "metadata": {},
     "output_type": "execute_result"
    }
   ],
   "source": [
    "%%cypher\n",
    "match (n:user)-[r]-()\n",
    "return n.screen_name as user, count(r) as deg\n",
    "order by deg desc\n",
    "limit 10"
   ]
  },
  {
   "cell_type": "markdown",
   "metadata": {},
   "source": [
    "### Top Tags"
   ]
  },
  {
   "cell_type": "code",
   "execution_count": 6,
   "metadata": {
    "collapsed": false
   },
   "outputs": [
    {
     "name": "stdout",
     "output_type": "stream",
     "text": [
      "10 rows affected.\n"
     ]
    },
    {
     "data": {
      "text/html": [
       "<table>\n",
       "    <tr>\n",
       "        <th>hashtags</th>\n",
       "        <th>deg</th>\n",
       "    </tr>\n",
       "    <tr>\n",
       "        <td>mali</td>\n",
       "        <td>145905</td>\n",
       "    </tr>\n",
       "    <tr>\n",
       "        <td>bamako</td>\n",
       "        <td>24944</td>\n",
       "    </tr>\n",
       "    <tr>\n",
       "        <td>maliattacks</td>\n",
       "        <td>12852</td>\n",
       "    </tr>\n",
       "    <tr>\n",
       "        <td>isis</td>\n",
       "        <td>7749</td>\n",
       "    </tr>\n",
       "    <tr>\n",
       "        <td>news</td>\n",
       "        <td>7216</td>\n",
       "    </tr>\n",
       "    <tr>\n",
       "        <td>paris</td>\n",
       "        <td>6722</td>\n",
       "    </tr>\n",
       "    <tr>\n",
       "        <td>prayformali</td>\n",
       "        <td>6462</td>\n",
       "    </tr>\n",
       "    <tr>\n",
       "        <td>aldubsumptuouslunch</td>\n",
       "        <td>6099</td>\n",
       "    </tr>\n",
       "    <tr>\n",
       "        <td>radisson</td>\n",
       "        <td>5825</td>\n",
       "    </tr>\n",
       "    <tr>\n",
       "        <td>mtvstars</td>\n",
       "        <td>4178</td>\n",
       "    </tr>\n",
       "</table>"
      ],
      "text/plain": [
       "[['mali', 145905],\n",
       " ['bamako', 24944],\n",
       " ['maliattacks', 12852],\n",
       " ['isis', 7749],\n",
       " ['news', 7216],\n",
       " ['paris', 6722],\n",
       " ['prayformali', 6462],\n",
       " ['aldubsumptuouslunch', 6099],\n",
       " ['radisson', 5825],\n",
       " ['mtvstars', 4178]]"
      ]
     },
     "execution_count": 6,
     "metadata": {},
     "output_type": "execute_result"
    }
   ],
   "source": [
    "%%cypher\n",
    "match (n:hashtag)-[r]-()\n",
    "return n.hashtag as hashtags, count(r) as deg\n",
    "order by deg desc\n",
    "limit 10"
   ]
  },
  {
   "cell_type": "markdown",
   "metadata": {},
   "source": [
    "### Language data"
   ]
  },
  {
   "cell_type": "code",
   "execution_count": 7,
   "metadata": {
    "collapsed": false
   },
   "outputs": [
    {
     "name": "stdout",
     "output_type": "stream",
     "text": [
      "49 rows affected.\n"
     ]
    }
   ],
   "source": [
    "langs = %cypher match (n:tweet) where n.lang is not null return distinct n.lang, count(*) as num_tweets order by num_tweets desc"
   ]
  },
  {
   "cell_type": "code",
   "execution_count": 8,
   "metadata": {
    "collapsed": false
   },
   "outputs": [
    {
     "data": {
      "text/plain": [
       "<matplotlib.axes._subplots.AxesSubplot at 0x7fdcecbd1cc0>"
      ]
     },
     "execution_count": 8,
     "metadata": {},
     "output_type": "execute_result"
    },
    {
     "data": {
      "image/png": "[encoded data removed]",
      "text/plain": [
       "<matplotlib.figure.Figure at 0x7fdcecbaf588>"
      ]
     },
     "metadata": {},
     "output_type": "display_data"
    }
   ],
   "source": [
    "lang_df = langs.get_dataframe()\n",
    "lang_df.set_index(\"n.lang\")[:10].plot(kind=\"bar\")"
   ]
  },
  {
   "cell_type": "markdown",
   "metadata": {},
   "source": [
    "### % of tweets with geotags"
   ]
  },
  {
   "cell_type": "code",
   "execution_count": 9,
   "metadata": {
    "collapsed": false
   },
   "outputs": [
    {
     "name": "stdout",
     "output_type": "stream",
     "text": [
      "1 rows affected.\n"
     ]
    },
    {
     "data": {
      "text/html": [
       "<table>\n",
       "    <tr>\n",
       "        <th>count(n)</th>\n",
       "    </tr>\n",
       "    <tr>\n",
       "        <td>608049</td>\n",
       "    </tr>\n",
       "</table>"
      ],
      "text/plain": [
       "[[608049]]"
      ]
     },
     "execution_count": 9,
     "metadata": {},
     "output_type": "execute_result"
    }
   ],
   "source": [
    "%cypher match (n:tweet) return count(n)"
   ]
  },
  {
   "cell_type": "code",
   "execution_count": 10,
   "metadata": {
    "collapsed": false
   },
   "outputs": [
    {
     "name": "stdout",
     "output_type": "stream",
     "text": [
      "1 rows affected.\n"
     ]
    },
    {
     "data": {
      "text/html": [
       "<table>\n",
       "    <tr>\n",
       "        <th>count(n)</th>\n",
       "    </tr>\n",
       "    <tr>\n",
       "        <td>6954</td>\n",
       "    </tr>\n",
       "</table>"
      ],
      "text/plain": [
       "[[6954]]"
      ]
     },
     "execution_count": 10,
     "metadata": {},
     "output_type": "execute_result"
    }
   ],
   "source": [
    "%cypher match (n:tweet) where n.coordinates is not null return count(n)"
   ]
  },
  {
   "cell_type": "code",
   "execution_count": 12,
   "metadata": {
    "collapsed": false
   },
   "outputs": [
    {
     "data": {
      "text/plain": [
       "0.011436578302077628"
      ]
     },
     "execution_count": 12,
     "metadata": {},
     "output_type": "execute_result"
    }
   ],
   "source": [
    "6954 / 608049.0  # 1.1%"
   ]
  },
  {
   "cell_type": "markdown",
   "metadata": {},
   "source": [
    "### Tweets by country"
   ]
  },
  {
   "cell_type": "code",
   "execution_count": 13,
   "metadata": {
    "collapsed": false
   },
   "outputs": [
    {
     "name": "stdout",
     "output_type": "stream",
     "text": [
      "138 rows affected.\n"
     ]
    }
   ],
   "source": [
    "countries = %cypher match (n:tweet) where n.coordinates is not null return distinct n.country, count(*) as num_tweets order by num_tweets desc"
   ]
  },
  {
   "cell_type": "code",
   "execution_count": 14,
   "metadata": {
    "collapsed": false
   },
   "outputs": [],
   "source": [
    "countries_df = countries.get_dataframe()"
   ]
  },
  {
   "cell_type": "code",
   "execution_count": 15,
   "metadata": {
    "collapsed": false
   },
   "outputs": [
    {
     "data": {
      "text/plain": [
       "<matplotlib.axes._subplots.AxesSubplot at 0x7fdcec817d68>"
      ]
     },
     "execution_count": 15,
     "metadata": {},
     "output_type": "execute_result"
    },
    {
     "data": {
      "image/png": "[encoded data removed]",
      "text/plain": [
       "<matplotlib.figure.Figure at 0x7fdcec77b710>"
      ]
     },
     "metadata": {},
     "output_type": "display_data"
    }
   ],
   "source": [
    "countries_df.set_index(\"n.country\")[:20].plot(kind=\"bar\")"
   ]
  },
  {
   "cell_type": "markdown",
   "metadata": {},
   "source": [
    "### Average sentiment in English"
   ]
  },
  {
   "cell_type": "code",
   "execution_count": 16,
   "metadata": {
    "collapsed": false
   },
   "outputs": [
    {
     "name": "stdout",
     "output_type": "stream",
     "text": [
      "1 rows affected.\n"
     ]
    },
    {
     "data": {
      "text/html": [
       "<table>\n",
       "    <tr>\n",
       "        <th>average_en_polarity</th>\n",
       "    </tr>\n",
       "    <tr>\n",
       "        <td>0.005649926675726534</td>\n",
       "    </tr>\n",
       "</table>"
      ],
      "text/plain": [
       "[[0.005649926675726534]]"
      ]
     },
     "execution_count": 16,
     "metadata": {},
     "output_type": "execute_result"
    }
   ],
   "source": [
    "%cypher match (n:tweet) where n.lang = \"en\" return avg(n.polarity) as average_en_polarity"
   ]
  },
  {
   "cell_type": "code",
   "execution_count": 17,
   "metadata": {
    "collapsed": false
   },
   "outputs": [
    {
     "name": "stdout",
     "output_type": "stream",
     "text": [
      "1 rows affected.\n"
     ]
    },
    {
     "data": {
      "text/html": [
       "<table>\n",
       "    <tr>\n",
       "        <th>average_en_subjectivity</th>\n",
       "    </tr>\n",
       "    <tr>\n",
       "        <td>0.23714375054279724</td>\n",
       "    </tr>\n",
       "</table>"
      ],
      "text/plain": [
       "[[0.23714375054279724]]"
      ]
     },
     "execution_count": 17,
     "metadata": {},
     "output_type": "execute_result"
    }
   ],
   "source": [
    "%cypher match (n:tweet) where n.lang = \"en\" return avg(n.subjectivity) as average_en_subjectivity"
   ]
  },
  {
   "cell_type": "markdown",
   "metadata": {},
   "source": [
    "### Average sentiment in French"
   ]
  },
  {
   "cell_type": "code",
   "execution_count": 18,
   "metadata": {
    "collapsed": false
   },
   "outputs": [
    {
     "name": "stdout",
     "output_type": "stream",
     "text": [
      "1 rows affected.\n"
     ]
    },
    {
     "data": {
      "text/html": [
       "<table>\n",
       "    <tr>\n",
       "        <th>average_fr_polarity</th>\n",
       "    </tr>\n",
       "    <tr>\n",
       "        <td>0.025076915147227433</td>\n",
       "    </tr>\n",
       "</table>"
      ],
      "text/plain": [
       "[[0.025076915147227433]]"
      ]
     },
     "execution_count": 18,
     "metadata": {},
     "output_type": "execute_result"
    }
   ],
   "source": [
    "%cypher match (n:tweet) where n.lang = \"fr\" return avg(n.polarity) as average_fr_polarity"
   ]
  },
  {
   "cell_type": "code",
   "execution_count": 19,
   "metadata": {
    "collapsed": false
   },
   "outputs": [
    {
     "name": "stdout",
     "output_type": "stream",
     "text": [
      "1 rows affected.\n"
     ]
    },
    {
     "data": {
      "text/html": [
       "<table>\n",
       "    <tr>\n",
       "        <th>average_fr_subjectivity</th>\n",
       "    </tr>\n",
       "    <tr>\n",
       "        <td>0.155275638351628</td>\n",
       "    </tr>\n",
       "</table>"
      ],
      "text/plain": [
       "[[0.155275638351628]]"
      ]
     },
     "execution_count": 19,
     "metadata": {},
     "output_type": "execute_result"
    }
   ],
   "source": [
    "%cypher match (n:tweet) where n.lang = \"fr\" return avg(n.subjectivity) as average_fr_subjectivity"
   ]
  },
  {
   "cell_type": "markdown",
   "metadata": {
    "collapsed": true
   },
   "source": [
    "### Paris Twitter Stars in Mali dataset"
   ]
  },
  {
   "cell_type": "markdown",
   "metadata": {},
   "source": [
    "Louis_Tomlinson"
   ]
  },
  {
   "cell_type": "code",
   "execution_count": 27,
   "metadata": {
    "collapsed": false
   },
   "outputs": [
    {
     "name": "stdout",
     "output_type": "stream",
     "text": [
      "1 rows affected.\n"
     ]
    },
    {
     "data": {
      "text/html": [
       "<table>\n",
       "    <tr>\n",
       "        <th>u.screen_name</th>\n",
       "    </tr>\n",
       "    <tr>\n",
       "        <td>Louis_Tomlinson</td>\n",
       "    </tr>\n",
       "</table>"
      ],
      "text/plain": [
       "[['Louis_Tomlinson']]"
      ]
     },
     "execution_count": 27,
     "metadata": {},
     "output_type": "execute_result"
    }
   ],
   "source": [
    "%%cypher\n",
    "match (u:user {uid: '84279963'})\n",
    "return u.screen_name"
   ]
  },
  {
   "cell_type": "code",
   "execution_count": 28,
   "metadata": {
    "collapsed": false
   },
   "outputs": [
    {
     "name": "stdout",
     "output_type": "stream",
     "text": [
      "0 rows affected.\n"
     ]
    },
    {
     "data": {
      "text/html": [
       "<table>\n",
       "    <tr>\n",
       "        <th>u.screen_name</th>\n",
       "        <th>n.text</th>\n",
       "    </tr>\n",
       "</table>"
      ],
      "text/plain": [
       "[]"
      ]
     },
     "execution_count": 28,
     "metadata": {},
     "output_type": "execute_result"
    }
   ],
   "source": [
    "%%cypher\n",
    "match (u:user {uid: '84279963'})-->(n:tweet)\n",
    "return u.screen_name, n.text"
   ]
  },
  {
   "cell_type": "code",
   "execution_count": 36,
   "metadata": {
    "collapsed": false
   },
   "outputs": [
    {
     "name": "stdout",
     "output_type": "stream",
     "text": [
      "1 rows affected.\n"
     ]
    },
    {
     "data": {
      "text/html": [
       "<table>\n",
       "    <tr>\n",
       "        <th>u.screen_name</th>\n",
       "        <th>n.text</th>\n",
       "    </tr>\n",
       "    <tr>\n",
       "        <td>Louis_Tomlinson</td>\n",
       "        <td>ı love u ONE DİRECTİON @Harry_Styles @Real_Liam_Payne @Louis_Tomlinson @NiallOfficial  and  ZAYN MALİK @zaynmalik https://t.co/o3Oeg0HPnk</td>\n",
       "    </tr>\n",
       "</table>"
      ],
      "text/plain": [
       "[['Louis_Tomlinson',\n",
       "  'ı love u ONE DİRECTİON @Harry_Styles @Real_Liam_Payne @Louis_Tomlinson @NiallOfficial  and  ZAYN MALİK @zaynmalik https://t.co/o3Oeg0HPnk']]"
      ]
     },
     "execution_count": 36,
     "metadata": {},
     "output_type": "execute_result"
    }
   ],
   "source": [
    "%%cypher\n",
    "match (u:user {uid: '84279963'})<--(n:tweet)\n",
    "return u.screen_name, n.text"
   ]
  },
  {
   "cell_type": "markdown",
   "metadata": {},
   "source": [
    "NiallOfficial"
   ]
  },
  {
   "cell_type": "code",
   "execution_count": 29,
   "metadata": {
    "collapsed": false
   },
   "outputs": [
    {
     "name": "stdout",
     "output_type": "stream",
     "text": [
      "1 rows affected.\n"
     ]
    },
    {
     "data": {
      "text/html": [
       "<table>\n",
       "    <tr>\n",
       "        <th>u.screen_name</th>\n",
       "    </tr>\n",
       "    <tr>\n",
       "        <td>NiallOfficial</td>\n",
       "    </tr>\n",
       "</table>"
      ],
      "text/plain": [
       "[['NiallOfficial']]"
      ]
     },
     "execution_count": 29,
     "metadata": {},
     "output_type": "execute_result"
    }
   ],
   "source": [
    "%%cypher\n",
    "match (u:user {uid: '105119490'})\n",
    "return u.screen_name"
   ]
  },
  {
   "cell_type": "code",
   "execution_count": 32,
   "metadata": {
    "collapsed": false
   },
   "outputs": [
    {
     "name": "stdout",
     "output_type": "stream",
     "text": [
      "0 rows affected.\n"
     ]
    },
    {
     "data": {
      "text/html": [
       "<table>\n",
       "    <tr>\n",
       "        <th>u.screen_name</th>\n",
       "        <th>n.text</th>\n",
       "    </tr>\n",
       "</table>"
      ],
      "text/plain": [
       "[]"
      ]
     },
     "execution_count": 32,
     "metadata": {},
     "output_type": "execute_result"
    }
   ],
   "source": [
    "%%cypher\n",
    "match (u:user {uid: '105119490'})-->(n:tweet)\n",
    "return u.screen_name, n.text"
   ]
  },
  {
   "cell_type": "code",
   "execution_count": 35,
   "metadata": {
    "collapsed": false
   },
   "outputs": [
    {
     "name": "stdout",
     "output_type": "stream",
     "text": [
      "2 rows affected.\n"
     ]
    },
    {
     "data": {
      "text/html": [
       "<table>\n",
       "    <tr>\n",
       "        <th>u.screen_name</th>\n",
       "        <th>n.text</th>\n",
       "    </tr>\n",
       "    <tr>\n",
       "        <td>NiallOfficial</td>\n",
       "        <td>@jnlynme @NiallOfficial Mali gud pagka intindi mo. Haha</td>\n",
       "    </tr>\n",
       "    <tr>\n",
       "        <td>NiallOfficial</td>\n",
       "        <td>ı love u ONE DİRECTİON @Harry_Styles @Real_Liam_Payne @Louis_Tomlinson @NiallOfficial  and  ZAYN MALİK @zaynmalik https://t.co/o3Oeg0HPnk</td>\n",
       "    </tr>\n",
       "</table>"
      ],
      "text/plain": [
       "[['NiallOfficial', '@jnlynme @NiallOfficial Mali gud pagka intindi mo. Haha'],\n",
       " ['NiallOfficial',\n",
       "  'ı love u ONE DİRECTİON @Harry_Styles @Real_Liam_Payne @Louis_Tomlinson @NiallOfficial  and  ZAYN MALİK @zaynmalik https://t.co/o3Oeg0HPnk']]"
      ]
     },
     "execution_count": 35,
     "metadata": {},
     "output_type": "execute_result"
    }
   ],
   "source": [
    "%%cypher\n",
    "match (u:user {uid: '105119490'})<--(n:tweet)\n",
    "return u.screen_name, n.text"
   ]
  },
  {
   "cell_type": "markdown",
   "metadata": {},
   "source": [
    "RecherchesP"
   ]
  },
  {
   "cell_type": "code",
   "execution_count": 33,
   "metadata": {
    "collapsed": false
   },
   "outputs": [
    {
     "name": "stdout",
     "output_type": "stream",
     "text": [
      "0 rows affected.\n"
     ]
    },
    {
     "data": {
      "text/html": [
       "<table>\n",
       "    <tr>\n",
       "        <th>u.screen_name</th>\n",
       "    </tr>\n",
       "</table>"
      ],
      "text/plain": [
       "[]"
      ]
     },
     "execution_count": 33,
     "metadata": {},
     "output_type": "execute_result"
    }
   ],
   "source": [
    "%%cypher\n",
    "match (u:user {uid: '4185722537'})\n",
    "return u.screen_name"
   ]
  },
  {
   "cell_type": "markdown",
   "metadata": {},
   "source": [
    "Harry_Styles"
   ]
  },
  {
   "cell_type": "code",
   "execution_count": 37,
   "metadata": {
    "collapsed": false
   },
   "outputs": [
    {
     "name": "stdout",
     "output_type": "stream",
     "text": [
      "1 rows affected.\n"
     ]
    },
    {
     "data": {
      "text/html": [
       "<table>\n",
       "    <tr>\n",
       "        <th>u.screen_name</th>\n",
       "    </tr>\n",
       "    <tr>\n",
       "        <td>Harry_Styles</td>\n",
       "    </tr>\n",
       "</table>"
      ],
      "text/plain": [
       "[['Harry_Styles']]"
      ]
     },
     "execution_count": 37,
     "metadata": {},
     "output_type": "execute_result"
    }
   ],
   "source": [
    "%%cypher\n",
    "match (u:user {uid: '181561712'})\n",
    "return u.screen_name"
   ]
  },
  {
   "cell_type": "code",
   "execution_count": 38,
   "metadata": {
    "collapsed": false
   },
   "outputs": [
    {
     "name": "stdout",
     "output_type": "stream",
     "text": [
      "0 rows affected.\n"
     ]
    },
    {
     "data": {
      "text/html": [
       "<table>\n",
       "    <tr>\n",
       "        <th>u.screen_name</th>\n",
       "        <th>n.text</th>\n",
       "    </tr>\n",
       "</table>"
      ],
      "text/plain": [
       "[]"
      ]
     },
     "execution_count": 38,
     "metadata": {},
     "output_type": "execute_result"
    }
   ],
   "source": [
    "%%cypher\n",
    "match (u:user {uid: '181561712'})-->(n:tweet)\n",
    "return u.screen_name, n.text"
   ]
  },
  {
   "cell_type": "code",
   "execution_count": 39,
   "metadata": {
    "collapsed": false
   },
   "outputs": [
    {
     "name": "stdout",
     "output_type": "stream",
     "text": [
      "1 rows affected.\n"
     ]
    },
    {
     "data": {
      "text/html": [
       "<table>\n",
       "    <tr>\n",
       "        <th>u.screen_name</th>\n",
       "        <th>n.text</th>\n",
       "    </tr>\n",
       "    <tr>\n",
       "        <td>Harry_Styles</td>\n",
       "        <td>ı love u ONE DİRECTİON @Harry_Styles @Real_Liam_Payne @Louis_Tomlinson @NiallOfficial  and  ZAYN MALİK @zaynmalik https://t.co/o3Oeg0HPnk</td>\n",
       "    </tr>\n",
       "</table>"
      ],
      "text/plain": [
       "[['Harry_Styles',\n",
       "  'ı love u ONE DİRECTİON @Harry_Styles @Real_Liam_Payne @Louis_Tomlinson @NiallOfficial  and  ZAYN MALİK @zaynmalik https://t.co/o3Oeg0HPnk']]"
      ]
     },
     "execution_count": 39,
     "metadata": {},
     "output_type": "execute_result"
    }
   ],
   "source": [
    "%%cypher\n",
    "match (u:user {uid: '181561712'})<--(n:tweet)\n",
    "return u.screen_name, n.text"
   ]
  },
  {
   "cell_type": "markdown",
   "metadata": {},
   "source": [
    "infos140"
   ]
  },
  {
   "cell_type": "code",
   "execution_count": 40,
   "metadata": {
    "collapsed": false
   },
   "outputs": [
    {
     "name": "stdout",
     "output_type": "stream",
     "text": [
      "1 rows affected.\n"
     ]
    },
    {
     "data": {
      "text/html": [
       "<table>\n",
       "    <tr>\n",
       "        <th>u.screen_name</th>\n",
       "    </tr>\n",
       "    <tr>\n",
       "        <td>infos140</td>\n",
       "    </tr>\n",
       "</table>"
      ],
      "text/plain": [
       "[['infos140']]"
      ]
     },
     "execution_count": 40,
     "metadata": {},
     "output_type": "execute_result"
    }
   ],
   "source": [
    "%%cypher\n",
    "match (u:user {uid: '1356382759'})\n",
    "return u.screen_name"
   ]
  },
  {
   "cell_type": "code",
   "execution_count": 41,
   "metadata": {
    "collapsed": false
   },
   "outputs": [
    {
     "name": "stdout",
     "output_type": "stream",
     "text": [
      "27 rows affected.\n"
     ]
    },
    {
     "data": {
      "text/html": [
       "<table>\n",
       "    <tr>\n",
       "        <th>u.screen_name</th>\n",
       "        <th>n.text</th>\n",
       "    </tr>\n",
       "    <tr>\n",
       "        <td>infos140</td>\n",
       "        <td>🔴 URGENT MALI Pour rappel, le mouvement dirigé par Moktar Belmoktar, al-Mourabitoune, avait déjà revendiqué l’attaque de l’hôtel Radisson</td>\n",
       "    </tr>\n",
       "    <tr>\n",
       "        <td>infos140</td>\n",
       "        <td>🔴 ALERTE MALI Dans un communiqué à RFI et AFP à Bamako, le Front de libération du Macina revendique  l’attaque qui a fait 22 morts vendredi</td>\n",
       "    </tr>\n",
       "    <tr>\n",
       "        <td>infos140</td>\n",
       "        <td>🔴URGENT MALI-BELGIQUE Bruxelles annonce la mort d&#x27;un 2eme ressortissant belge hier lors de l&#x27;attaque de Bamako</td>\n",
       "    </tr>\n",
       "    <tr>\n",
       "        <td>infos140</td>\n",
       "        <td>🔴URGENT MALI Au moins 3 suspects activement recherchés après l’attaque de l’hôtel Radisson hier à Bamako</td>\n",
       "    </tr>\n",
       "    <tr>\n",
       "        <td>infos140</td>\n",
       "        <td>🔴 MALI RAPPEL Lundi, les autorités authentifiaient un enregistrement sonore dans lequel le chef d’Ansar Dine appelait à frapper les Français</td>\n",
       "    </tr>\n",
       "    <tr>\n",
       "        <td>infos140</td>\n",
       "        <td>🔴URGENT MALI Le bilan provisoire de la prise d&#x27;otages à Bamako s’élève à a3 terroristes tués et 27 morts parmi les clients et employés</td>\n",
       "    </tr>\n",
       "    <tr>\n",
       "        <td>infos140</td>\n",
       "        <td>🔴 MALI RAPPEL Cet appel du chef (Touareg)  d’Ansar Dine à frapper les Français avait été enregistré avant les attentats à Paris de vendredi</td>\n",
       "    </tr>\n",
       "    <tr>\n",
       "        <td>infos140</td>\n",
       "        <td>🔴URGENT MALI Selon source locale, les assaillants ont pénétré dans l&#x27;enceinte de l&#x27;hôtel à bord d&#x27;une voiture avec une plaque diplomatique</td>\n",
       "    </tr>\n",
       "    <tr>\n",
       "        <td>infos140</td>\n",
       "        <td>🔴 ALERTE MALI Des tirs et des explosions signalés à l’hôtel Radison de Bamako, essentiellement fréquenté par des étrangers.</td>\n",
       "    </tr>\n",
       "    <tr>\n",
       "        <td>infos140</td>\n",
       "        <td>🔴ALERTE MALI Des responsables de la Sécurité malienne font état d’un bilan d&#x27;au moins 22 morts</td>\n",
       "    </tr>\n",
       "    <tr>\n",
       "        <td>infos140</td>\n",
       "        <td>🔴 URGENT MALI Des sources locales parlent de 10 hommes armés (2 selon la direction de l’hôtel). 9 victimes dont des étrangers sont évoquées</td>\n",
       "    </tr>\n",
       "    <tr>\n",
       "        <td>infos140</td>\n",
       "        <td>🔴ALERTE MALI Assaut donné à Bamako. Au moins 3 otages tués (AFP)</td>\n",
       "    </tr>\n",
       "    <tr>\n",
       "        <td>infos140</td>\n",
       "        <td>🔴URGENT MALI Selon @Reuters, parmi les personnes libérées figurent notamment des otages capables de réciter des versets du Coran</td>\n",
       "    </tr>\n",
       "    <tr>\n",
       "        <td>infos140</td>\n",
       "        <td>🔴ALERTE MALI Selon les forces militaires maliennes, la prise d’otages à l’hôtel Radisson de Bamako est terminée</td>\n",
       "    </tr>\n",
       "    <tr>\n",
       "        <td>infos140</td>\n",
       "        <td>🔴ALERTE MALI Selon les forces militaires nmaliennes, la prise d’otages à l’hôtel Radisson de Bamako est terminée</td>\n",
       "    </tr>\n",
       "    <tr>\n",
       "        <td>infos140</td>\n",
       "        <td>🔴URGENT MALI Une source de sécurité précise à @RTLFrance que l’armée française est sur place. Attaque jihadiste au 7e étage de l’hôtel</td>\n",
       "    </tr>\n",
       "    <tr>\n",
       "        <td>infos140</td>\n",
       "        <td>🔴URGENT MALI 80 otages auraient été libérés de l&#x27;hôtel Radisson à Bamako  selon la TV publique malienne https://t.co/YEikf09Q1q</td>\n",
       "    </tr>\n",
       "    <tr>\n",
       "        <td>infos140</td>\n",
       "        <td>🔴ALERTE FRANCE-MALI Le personnel @airfrance (12 personnes) exfiltré et hors de danger (via @leJDD) https://t.co/xoX3oMt1py</td>\n",
       "    </tr>\n",
       "    <tr>\n",
       "        <td>infos140</td>\n",
       "        <td>🔴 ALERTE MALI Il y a 170 otages retenus par 2 assaillants (direction hôtel Radison/AFP)</td>\n",
       "    </tr>\n",
       "    <tr>\n",
       "        <td>infos140</td>\n",
       "        <td>🔴URGENT FRANCE-MALI Le ministère de l&#x27;intérieur annonce l&#x27;envoi d&#x27;une unité du GIGN à Bamako</td>\n",
       "    </tr>\n",
       "    <tr>\n",
       "        <td>infos140</td>\n",
       "        <td>🔴FRANCE-MALI @fhollande appelle ressortissants français à l&#x27;étranger &#x27;à prendre toutes les précautions&#x27; pour leur sécurité (@erichacquemand)</td>\n",
       "    </tr>\n",
       "    <tr>\n",
       "        <td>infos140</td>\n",
       "        <td>🔴ALERTE MALI Le ministre de la sécurité malien indique que les assaillants ne détiennent plus d&#x27;otages</td>\n",
       "    </tr>\n",
       "    <tr>\n",
       "        <td>infos140</td>\n",
       "        <td>🔴 ALERTE MALI Le groupe Al-Mourabitoun de Mokhtar Belmokhtar (affilié à Al Qaeda) revendique la prise d’otage à Bamako (@FRANCE24)</td>\n",
       "    </tr>\n",
       "    <tr>\n",
       "        <td>infos140</td>\n",
       "        <td>🔴 ALERTE MALI Fusillade en cours dans l’hôtel Radisson à Bamako (AFP)</td>\n",
       "    </tr>\n",
       "    <tr>\n",
       "        <td>infos140</td>\n",
       "        <td>🔴URGENT MALI Selon le groupe Radisson, 125 clients et 13 employés sont toujours dans l&#x27;hôtel de Bamako (Photo @AP) https://t.co/LN9pksxjCv</td>\n",
       "    </tr>\n",
       "    <tr>\n",
       "        <td>infos140</td>\n",
       "        <td>🔴ALERTE MALI Le ressortissant belge tué était 1er conseiller de direction de l&#x27;administration du parlement Fédération de Wallonie-Bruxelles</td>\n",
       "    </tr>\n",
       "    <tr>\n",
       "        <td>infos140</td>\n",
       "        <td>🔴URGENT MALI 18 corps auraient été retrouvés (source de sécurité étrangère) dont celui d’un ressortissant belge (AFP)</td>\n",
       "    </tr>\n",
       "</table>"
      ],
      "text/plain": [
       "[['infos140',\n",
       "  '🔴 URGENT MALI Pour rappel, le mouvement dirigé par Moktar Belmoktar, al-Mourabitoune, avait déjà revendiqué l’attaque de l’hôtel Radisson'],\n",
       " ['infos140',\n",
       "  '🔴 ALERTE MALI Dans un communiqué à RFI et AFP à Bamako, le Front de libération du Macina revendique  l’attaque qui a fait 22 morts vendredi'],\n",
       " ['infos140',\n",
       "  \"🔴URGENT MALI-BELGIQUE Bruxelles annonce la mort d'un 2eme ressortissant belge hier lors de l'attaque de Bamako\"],\n",
       " ['infos140',\n",
       "  '🔴URGENT MALI Au moins 3 suspects activement recherchés après l’attaque de l’hôtel Radisson hier à Bamako'],\n",
       " ['infos140',\n",
       "  '🔴 MALI RAPPEL Lundi, les autorités authentifiaient un enregistrement sonore dans lequel le chef d’Ansar Dine appelait à frapper les Français'],\n",
       " ['infos140',\n",
       "  \"🔴URGENT MALI Le bilan provisoire de la prise d'otages à Bamako s’élève à a3 terroristes tués et 27 morts parmi les clients et employés\"],\n",
       " ['infos140',\n",
       "  '🔴 MALI RAPPEL Cet appel du chef (Touareg)  d’Ansar Dine à frapper les Français avait été enregistré avant les attentats à Paris de vendredi'],\n",
       " ['infos140',\n",
       "  \"🔴URGENT MALI Selon source locale, les assaillants ont pénétré dans l'enceinte de l'hôtel à bord d'une voiture avec une plaque diplomatique\"],\n",
       " ['infos140',\n",
       "  '🔴 ALERTE MALI Des tirs et des explosions signalés à l’hôtel Radison de Bamako, essentiellement fréquenté par des étrangers.'],\n",
       " ['infos140',\n",
       "  \"🔴ALERTE MALI Des responsables de la Sécurité malienne font état d’un bilan d'au moins 22 morts\"],\n",
       " ['infos140',\n",
       "  '🔴 URGENT MALI Des sources locales parlent de 10 hommes armés (2 selon la direction de l’hôtel). 9 victimes dont des étrangers sont évoquées'],\n",
       " ['infos140',\n",
       "  '🔴ALERTE MALI Assaut donné à Bamako. Au moins 3 otages tués (AFP)'],\n",
       " ['infos140',\n",
       "  '🔴URGENT MALI Selon @Reuters, parmi les personnes libérées figurent notamment des otages capables de réciter des versets du Coran'],\n",
       " ['infos140',\n",
       "  '🔴ALERTE MALI Selon les forces militaires maliennes, la prise d’otages à l’hôtel Radisson de Bamako est terminée'],\n",
       " ['infos140',\n",
       "  '🔴ALERTE MALI Selon les forces militaires nmaliennes, la prise d’otages à l’hôtel Radisson de Bamako est terminée'],\n",
       " ['infos140',\n",
       "  '🔴URGENT MALI Une source de sécurité précise à @RTLFrance que l’armée française est sur place. Attaque jihadiste au 7e étage de l’hôtel'],\n",
       " ['infos140',\n",
       "  \"🔴URGENT MALI 80 otages auraient été libérés de l'hôtel Radisson à Bamako  selon la TV publique malienne https://t.co/YEikf09Q1q\"],\n",
       " ['infos140',\n",
       "  '🔴ALERTE FRANCE-MALI Le personnel @airfrance (12 personnes) exfiltré et hors de danger (via @leJDD) https://t.co/xoX3oMt1py'],\n",
       " ['infos140',\n",
       "  '🔴 ALERTE MALI Il y a 170 otages retenus par 2 assaillants (direction hôtel Radison/AFP)'],\n",
       " ['infos140',\n",
       "  \"🔴URGENT FRANCE-MALI Le ministère de l'intérieur annonce l'envoi d'une unité du GIGN à Bamako\"],\n",
       " ['infos140',\n",
       "  \"🔴FRANCE-MALI @fhollande appelle ressortissants français à l'étranger 'à prendre toutes les précautions' pour leur sécurité (@erichacquemand)\"],\n",
       " ['infos140',\n",
       "  \"🔴ALERTE MALI Le ministre de la sécurité malien indique que les assaillants ne détiennent plus d'otages\"],\n",
       " ['infos140',\n",
       "  '🔴 ALERTE MALI Le groupe Al-Mourabitoun de Mokhtar Belmokhtar (affilié à Al Qaeda) revendique la prise d’otage à Bamako (@FRANCE24)'],\n",
       " ['infos140',\n",
       "  '🔴 ALERTE MALI Fusillade en cours dans l’hôtel Radisson à Bamako (AFP)'],\n",
       " ['infos140',\n",
       "  \"🔴URGENT MALI Selon le groupe Radisson, 125 clients et 13 employés sont toujours dans l'hôtel de Bamako (Photo @AP) https://t.co/LN9pksxjCv\"],\n",
       " ['infos140',\n",
       "  \"🔴ALERTE MALI Le ressortissant belge tué était 1er conseiller de direction de l'administration du parlement Fédération de Wallonie-Bruxelles\"],\n",
       " ['infos140',\n",
       "  '🔴URGENT MALI 18 corps auraient été retrouvés (source de sécurité étrangère) dont celui d’un ressortissant belge (AFP)']]"
      ]
     },
     "execution_count": 41,
     "metadata": {},
     "output_type": "execute_result"
    }
   ],
   "source": [
    "%%cypher\n",
    "match (u:user {uid: '1356382759'})-->(n:tweet)\n",
    "return u.screen_name, n.text"
   ]
  },
  {
   "cell_type": "markdown",
   "metadata": {},
   "source": [
    "justinbieber"
   ]
  },
  {
   "cell_type": "code",
   "execution_count": 42,
   "metadata": {
    "collapsed": false
   },
   "outputs": [
    {
     "name": "stdout",
     "output_type": "stream",
     "text": [
      "1 rows affected.\n"
     ]
    },
    {
     "data": {
      "text/html": [
       "<table>\n",
       "    <tr>\n",
       "        <th>u.screen_name</th>\n",
       "    </tr>\n",
       "    <tr>\n",
       "        <td>justinbieber</td>\n",
       "    </tr>\n",
       "</table>"
      ],
      "text/plain": [
       "[['justinbieber']]"
      ]
     },
     "execution_count": 42,
     "metadata": {},
     "output_type": "execute_result"
    }
   ],
   "source": [
    "%%cypher\n",
    "match (u:user {uid: '27260086'})\n",
    "return u.screen_name"
   ]
  },
  {
   "cell_type": "code",
   "execution_count": 45,
   "metadata": {
    "collapsed": false
   },
   "outputs": [
    {
     "name": "stdout",
     "output_type": "stream",
     "text": [
      "0 rows affected.\n"
     ]
    },
    {
     "data": {
      "text/html": [
       "<table>\n",
       "    <tr>\n",
       "        <th>u.screen_name</th>\n",
       "        <th>n.text</th>\n",
       "    </tr>\n",
       "</table>"
      ],
      "text/plain": [
       "[]"
      ]
     },
     "execution_count": 45,
     "metadata": {},
     "output_type": "execute_result"
    }
   ],
   "source": [
    "%%cypher\n",
    "match (u:user {uid: '27260086'})-->(n:tweet)\n",
    "return u.screen_name, n.text"
   ]
  },
  {
   "cell_type": "code",
   "execution_count": 46,
   "metadata": {
    "collapsed": false
   },
   "outputs": [
    {
     "name": "stdout",
     "output_type": "stream",
     "text": [
      "3 rows affected.\n"
     ]
    },
    {
     "data": {
      "text/html": [
       "<table>\n",
       "    <tr>\n",
       "        <th>u.screen_name</th>\n",
       "        <th>n.text</th>\n",
       "    </tr>\n",
       "    <tr>\n",
       "        <td>justinbieber</td>\n",
       "        <td>justin yawrum follow me glw i love you bbegim follow me ebesini siktigimin mali @justinbieber #BieberOnAMAs</td>\n",
       "    </tr>\n",
       "    <tr>\n",
       "        <td>justinbieber</td>\n",
       "        <td>@justinbieber .SENİ ÜZENLERE KARŞI BİR SEVGİMİ BESLİYORSUN PEZEVENK..BURDA SENİN İÇİN ÖLEBİLİCEK BİR SÜRÜ BELIEBER VARKEN NEDEN SELENA MALI?</td>\n",
       "    </tr>\n",
       "    <tr>\n",
       "        <td>justinbieber</td>\n",
       "        <td>@ilovejanelaa @justinbieber puta! Lagi na lang ganto! Kapag successful ka nanjan sya! Pag-may nagawa kang mali. WALA NANAMAN SYA SA TABI MO!</td>\n",
       "    </tr>\n",
       "</table>"
      ],
      "text/plain": [
       "[['justinbieber',\n",
       "  'justin yawrum follow me glw i love you bbegim follow me ebesini siktigimin mali @justinbieber #BieberOnAMAs'],\n",
       " ['justinbieber',\n",
       "  '@justinbieber .SENİ ÜZENLERE KARŞI BİR SEVGİMİ BESLİYORSUN PEZEVENK..BURDA SENİN İÇİN ÖLEBİLİCEK BİR SÜRÜ BELIEBER VARKEN NEDEN SELENA MALI?'],\n",
       " ['justinbieber',\n",
       "  '@ilovejanelaa @justinbieber puta! Lagi na lang ganto! Kapag successful ka nanjan sya! Pag-may nagawa kang mali. WALA NANAMAN SYA SA TABI MO!']]"
      ]
     },
     "execution_count": 46,
     "metadata": {},
     "output_type": "execute_result"
    }
   ],
   "source": [
    "%%cypher\n",
    "match (u:user {uid: '27260086'})<--(n:tweet)\n",
    "return u.screen_name, n.text"
   ]
  },
  {
   "cell_type": "markdown",
   "metadata": {},
   "source": [
    "nytimes"
   ]
  },
  {
   "cell_type": "code",
   "execution_count": 47,
   "metadata": {
    "collapsed": false
   },
   "outputs": [
    {
     "name": "stdout",
     "output_type": "stream",
     "text": [
      "1 rows affected.\n"
     ]
    },
    {
     "data": {
      "text/html": [
       "<table>\n",
       "    <tr>\n",
       "        <th>u.screen_name</th>\n",
       "    </tr>\n",
       "    <tr>\n",
       "        <td>nytimes</td>\n",
       "    </tr>\n",
       "</table>"
      ],
      "text/plain": [
       "[['nytimes']]"
      ]
     },
     "execution_count": 47,
     "metadata": {},
     "output_type": "execute_result"
    }
   ],
   "source": [
    "%%cypher\n",
    "match (u:user {uid: '807095'})\n",
    "return u.screen_name"
   ]
  },
  {
   "cell_type": "code",
   "execution_count": 48,
   "metadata": {
    "collapsed": false
   },
   "outputs": [
    {
     "name": "stdout",
     "output_type": "stream",
     "text": [
      "16 rows affected.\n"
     ]
    },
    {
     "data": {
      "text/html": [
       "<table>\n",
       "    <tr>\n",
       "        <th>u.screen_name</th>\n",
       "        <th>n.text</th>\n",
       "    </tr>\n",
       "    <tr>\n",
       "        <td>nytimes</td>\n",
       "        <td>In the days after an attack in Mali, life goes on with little evidence of increased security https://t.co/J652a7xD2E https://t.co/ZfrrURlxWk</td>\n",
       "    </tr>\n",
       "    <tr>\n",
       "        <td>nytimes</td>\n",
       "        <td>Your Weekend Briefing: Mali, Brussels, Chicago https://t.co/uDKXe74ygg</td>\n",
       "    </tr>\n",
       "    <tr>\n",
       "        <td>nytimes</td>\n",
       "        <td>RT @nytimesworld: Paris and Mali attacks expose lethal Al Qaeda-ISIS rivalry. https://t.co/JFRjEUb1qE</td>\n",
       "    </tr>\n",
       "    <tr>\n",
       "        <td>nytimes</td>\n",
       "        <td>What we know and don’t know about the terrorist attack in Mali https://t.co/ekkefn4NSC https://t.co/igElExNwKz</td>\n",
       "    </tr>\n",
       "    <tr>\n",
       "        <td>nytimes</td>\n",
       "        <td>3 Chinese Executives Killed in Mali Attack, Company Says https://t.co/ovTb04M3aT</td>\n",
       "    </tr>\n",
       "    <tr>\n",
       "        <td>nytimes</td>\n",
       "        <td>France has a long history in Mali, where Islamic rebels have fought a three-year insurgency https://t.co/oh9vvJR4rZ https://t.co/sjS5BWefyS</td>\n",
       "    </tr>\n",
       "    <tr>\n",
       "        <td>nytimes</td>\n",
       "        <td>Gunmen arrived at Mali hotel in &#x27;a vehicle with diplomatic plates,&#x27; pastry chef at hotel said https://t.co/uBqFytc33K</td>\n",
       "    </tr>\n",
       "    <tr>\n",
       "        <td>nytimes</td>\n",
       "        <td>Breaking News: Gunmen have seized hostages at a Radisson Hotel in Mali https://t.co/DfotnG9FOm</td>\n",
       "    </tr>\n",
       "    <tr>\n",
       "        <td>nytimes</td>\n",
       "        <td>At least 3 people are dead after gunmen stormed a hotel in Mali and seized 170 hostages https://t.co/G7Vi101qvM</td>\n",
       "    </tr>\n",
       "    <tr>\n",
       "        <td>nytimes</td>\n",
       "        <td>Officials say the gunmen at the Mali hotel are no longer holding any hostages https://t.co/QHzi5OXWcb https://t.co/DiGDEYtvtd</td>\n",
       "    </tr>\n",
       "    <tr>\n",
       "        <td>nytimes</td>\n",
       "        <td>Hostages who could do recite Muslim statement were allowed to leave Mali hotel, according to Malian journalist https://t.co/XwsnSsBnxH</td>\n",
       "    </tr>\n",
       "    <tr>\n",
       "        <td>nytimes</td>\n",
       "        <td>Breaking News: More than 150 hostages have been taken at a Radisson Hotel in Bamako, Mali<br>https://t.co/eNHzM4qEDa</td>\n",
       "    </tr>\n",
       "    <tr>\n",
       "        <td>nytimes</td>\n",
       "        <td>What we know about the attack on a hotel in Mali https://t.co/n5npMDM7xA https://t.co/I3omP7NTFl</td>\n",
       "    </tr>\n",
       "    <tr>\n",
       "        <td>nytimes</td>\n",
       "        <td>Gunmen stormed a hotel in Mali, seizing 140 guests and 30 employees as hostages, per company that runs hotel https://t.co/k4rNAlAWgF</td>\n",
       "    </tr>\n",
       "    <tr>\n",
       "        <td>nytimes</td>\n",
       "        <td>The Bamako hotel siege illustrates how Islamic extremists in Mali have changed their tactics in recent years https://t.co/TUAd2bh49r</td>\n",
       "    </tr>\n",
       "    <tr>\n",
       "        <td>nytimes</td>\n",
       "        <td>What we know about the attack on a hotel in Mali. Follow our live blog for updates: https://t.co/uB2w472eTN https://t.co/Afsjmu5NC3</td>\n",
       "    </tr>\n",
       "</table>"
      ],
      "text/plain": [
       "[['nytimes',\n",
       "  'In the days after an attack in Mali, life goes on with little evidence of increased security https://t.co/J652a7xD2E https://t.co/ZfrrURlxWk'],\n",
       " ['nytimes',\n",
       "  'Your Weekend Briefing: Mali, Brussels, Chicago https://t.co/uDKXe74ygg'],\n",
       " ['nytimes',\n",
       "  'RT @nytimesworld: Paris and Mali attacks expose lethal Al Qaeda-ISIS rivalry. https://t.co/JFRjEUb1qE'],\n",
       " ['nytimes',\n",
       "  'What we know and don’t know about the terrorist attack in Mali https://t.co/ekkefn4NSC https://t.co/igElExNwKz'],\n",
       " ['nytimes',\n",
       "  '3 Chinese Executives Killed in Mali Attack, Company Says https://t.co/ovTb04M3aT'],\n",
       " ['nytimes',\n",
       "  'France has a long history in Mali, where Islamic rebels have fought a three-year insurgency https://t.co/oh9vvJR4rZ https://t.co/sjS5BWefyS'],\n",
       " ['nytimes',\n",
       "  \"Gunmen arrived at Mali hotel in 'a vehicle with diplomatic plates,' pastry chef at hotel said https://t.co/uBqFytc33K\"],\n",
       " ['nytimes',\n",
       "  'Breaking News: Gunmen have seized hostages at a Radisson Hotel in Mali https://t.co/DfotnG9FOm'],\n",
       " ['nytimes',\n",
       "  'At least 3 people are dead after gunmen stormed a hotel in Mali and seized 170 hostages https://t.co/G7Vi101qvM'],\n",
       " ['nytimes',\n",
       "  'Officials say the gunmen at the Mali hotel are no longer holding any hostages https://t.co/QHzi5OXWcb https://t.co/DiGDEYtvtd'],\n",
       " ['nytimes',\n",
       "  'Hostages who could do recite Muslim statement were allowed to leave Mali hotel, according to Malian journalist https://t.co/XwsnSsBnxH'],\n",
       " ['nytimes',\n",
       "  'Breaking News: More than 150 hostages have been taken at a Radisson Hotel in Bamako, Mali\\nhttps://t.co/eNHzM4qEDa'],\n",
       " ['nytimes',\n",
       "  'What we know about the attack on a hotel in Mali https://t.co/n5npMDM7xA https://t.co/I3omP7NTFl'],\n",
       " ['nytimes',\n",
       "  'Gunmen stormed a hotel in Mali, seizing 140 guests and 30 employees as hostages, per company that runs hotel https://t.co/k4rNAlAWgF'],\n",
       " ['nytimes',\n",
       "  'The Bamako hotel siege illustrates how Islamic extremists in Mali have changed their tactics in recent years https://t.co/TUAd2bh49r'],\n",
       " ['nytimes',\n",
       "  'What we know about the attack on a hotel in Mali. Follow our live blog for updates: https://t.co/uB2w472eTN https://t.co/Afsjmu5NC3']]"
      ]
     },
     "execution_count": 48,
     "metadata": {},
     "output_type": "execute_result"
    }
   ],
   "source": [
    "%%cypher\n",
    "match (u:user {uid: '807095'})-->(n:tweet)\n",
    "return u.screen_name, n.text"
   ]
  },
  {
   "cell_type": "markdown",
   "metadata": {},
   "source": [
    "AP"
   ]
  },
  {
   "cell_type": "code",
   "execution_count": 49,
   "metadata": {
    "collapsed": false
   },
   "outputs": [
    {
     "name": "stdout",
     "output_type": "stream",
     "text": [
      "1 rows affected.\n"
     ]
    },
    {
     "data": {
      "text/html": [
       "<table>\n",
       "    <tr>\n",
       "        <th>u.screen_name</th>\n",
       "    </tr>\n",
       "    <tr>\n",
       "        <td>AP</td>\n",
       "    </tr>\n",
       "</table>"
      ],
      "text/plain": [
       "[['AP']]"
      ]
     },
     "execution_count": 49,
     "metadata": {},
     "output_type": "execute_result"
    }
   ],
   "source": [
    "%%cypher\n",
    "match (u:user {uid: '51241574'})\n",
    "return u.screen_name"
   ]
  },
  {
   "cell_type": "code",
   "execution_count": 50,
   "metadata": {
    "collapsed": false
   },
   "outputs": [
    {
     "name": "stdout",
     "output_type": "stream",
     "text": [
      "27 rows affected.\n"
     ]
    },
    {
     "data": {
      "text/html": [
       "<table>\n",
       "    <tr>\n",
       "        <th>u.screen_name</th>\n",
       "        <th>n.text</th>\n",
       "    </tr>\n",
       "    <tr>\n",
       "        <td>AP</td>\n",
       "        <td>Find breaking news and all the latest on the events in Mali on the AP Mobile App. https://t.co/LjHivHiCS5</td>\n",
       "    </tr>\n",
       "    <tr>\n",
       "        <td>AP</td>\n",
       "        <td>Northern separatists say Mali hotel attack that killed 19 was a clear attempt to derail fragile peace process: https://t.co/Hg9pgHsxoj</td>\n",
       "    </tr>\n",
       "    <tr>\n",
       "        <td>AP</td>\n",
       "        <td>Report: 6 Turkish Airlines personnel among Mali hostages: https://t.co/s5hVqDsvAe</td>\n",
       "    </tr>\n",
       "    <tr>\n",
       "        <td>AP</td>\n",
       "        <td>RAW VIDEO: Mali security tightens after hotel massacre https://t.co/SMDYuafvjC</td>\n",
       "    </tr>\n",
       "    <tr>\n",
       "        <td>AP</td>\n",
       "        <td>The Latest: Muslims in Italy protest the &#x27;abuse&#x27; of Islam by attackers in Paris and Mali: https://t.co/tO05Lc7WHQ</td>\n",
       "    </tr>\n",
       "    <tr>\n",
       "        <td>AP</td>\n",
       "        <td>The Latest: Attackers arrived on foot and surprised Mali hotel guards at shift change: https://t.co/j9hOCvcJBp</td>\n",
       "    </tr>\n",
       "    <tr>\n",
       "        <td>AP</td>\n",
       "        <td>Chinese company says three of its executives were killed in Mali hotel attack: https://t.co/Fa9CucEGky</td>\n",
       "    </tr>\n",
       "    <tr>\n",
       "        <td>AP</td>\n",
       "        <td>BREAKING: Chinese company says 3 Chinese business executives among dead in Mali attack.</td>\n",
       "    </tr>\n",
       "    <tr>\n",
       "        <td>AP</td>\n",
       "        <td>American killed in Mali hotel attack identified as woman from suburban Maryland: https://t.co/vHUVDskSqF</td>\n",
       "    </tr>\n",
       "    <tr>\n",
       "        <td>AP</td>\n",
       "        <td>Keep up to date with the latest news from Mali. Get the details now in the AP Mobile app. https://t.co/LjHivHiCS5</td>\n",
       "    </tr>\n",
       "    <tr>\n",
       "        <td>AP</td>\n",
       "        <td>US State Department confirms one American is among at least 19 people killed in Mali hotel attack: https://t.co/wS0eoMNhke</td>\n",
       "    </tr>\n",
       "    <tr>\n",
       "        <td>AP</td>\n",
       "        <td>(CORRECTS LINK) Death toll remains murky after Islamic militants attack hotel in Mali&#x27;s capital: https://t.co/GzdsYxbwUX</td>\n",
       "    </tr>\n",
       "    <tr>\n",
       "        <td>AP</td>\n",
       "        <td>Death toll remains murky after Islamic militants attack hotel in Mali&#x27;s capital: https://t.co/jIgmbzfkZZ</td>\n",
       "    </tr>\n",
       "    <tr>\n",
       "        <td>AP</td>\n",
       "        <td>BREAKING: Turkish state media says 6 Turkish Airlines personnel are among hostages in Mali</td>\n",
       "    </tr>\n",
       "    <tr>\n",
       "        <td>AP</td>\n",
       "        <td>BREAKING: US Embassy: Shooter at Radisson in Bamako, Mali. Americans should shelter in place.</td>\n",
       "    </tr>\n",
       "    <tr>\n",
       "        <td>AP</td>\n",
       "        <td>BREAKING: UN officials: 2 jihadis killed, 27 people slain in Mali hotel attack, operations ongoing.</td>\n",
       "    </tr>\n",
       "    <tr>\n",
       "        <td>AP</td>\n",
       "        <td>Army: 3 confirmed dead in attack on Mali hotel in capital: https://t.co/gJnoacZXh2</td>\n",
       "    </tr>\n",
       "    <tr>\n",
       "        <td>AP</td>\n",
       "        <td>Islamic extremists armed with guns and grenades storm Radisson Blu hotel in Mali, killing three, officials say: https://t.co/O1JUyXf7UU</td>\n",
       "    </tr>\n",
       "    <tr>\n",
       "        <td>AP</td>\n",
       "        <td>#AP10Things: Hostages taken after Mali hotel attacked; Netanyahu says U.S. frees man convicted of spying for Israel: https://t.co/AUsZhYFyqx</td>\n",
       "    </tr>\n",
       "    <tr>\n",
       "        <td>AP</td>\n",
       "        <td>Radisson hotel in Mali attacked: https://t.co/ExGhgUlonT</td>\n",
       "    </tr>\n",
       "    <tr>\n",
       "        <td>AP</td>\n",
       "        <td>Radisson hotel in Mali attacked; 170 hostages taken: https://t.co/3YLig9dHXS</td>\n",
       "    </tr>\n",
       "    <tr>\n",
       "        <td>AP</td>\n",
       "        <td>Army: About 20 hostages freed from Mali hotel: https://t.co/P5KCDsHGQp</td>\n",
       "    </tr>\n",
       "    <tr>\n",
       "        <td>AP</td>\n",
       "        <td>BREAKING: Military official says at least 3 dead following attack on Mali hotel where hostages held</td>\n",
       "    </tr>\n",
       "    <tr>\n",
       "        <td>AP</td>\n",
       "        <td>BREAKING: Mali army commander says about 20 hostages freed from Bamako hotel seized by gunmen.</td>\n",
       "    </tr>\n",
       "    <tr>\n",
       "        <td>AP</td>\n",
       "        <td>VIDEO: Footage shows police, soldiers outside Mali hotel that was attacked by gunmen: https://t.co/lgYw73RERH</td>\n",
       "    </tr>\n",
       "    <tr>\n",
       "        <td>AP</td>\n",
       "        <td>BREAKING: Hotel company says 170 hostages - 140 guests and 30 employees - taken in Radisson Blu attack in Mali.</td>\n",
       "    </tr>\n",
       "    <tr>\n",
       "        <td>AP</td>\n",
       "        <td>Islamic extremists attack hotel in Mali&#x27;s capital that was full of foreigners: https://t.co/qeOEHSSrKY https://t.co/iE8FrGiOK0</td>\n",
       "    </tr>\n",
       "</table>"
      ],
      "text/plain": [
       "[['AP',\n",
       "  'Find breaking news and all the latest on the events in Mali on the AP Mobile App. https://t.co/LjHivHiCS5'],\n",
       " ['AP',\n",
       "  'Northern separatists say Mali hotel attack that killed 19 was a clear attempt to derail fragile peace process: https://t.co/Hg9pgHsxoj'],\n",
       " ['AP',\n",
       "  'Report: 6 Turkish Airlines personnel among Mali hostages: https://t.co/s5hVqDsvAe'],\n",
       " ['AP',\n",
       "  'RAW VIDEO: Mali security tightens after hotel massacre https://t.co/SMDYuafvjC'],\n",
       " ['AP',\n",
       "  \"The Latest: Muslims in Italy protest the 'abuse' of Islam by attackers in Paris and Mali: https://t.co/tO05Lc7WHQ\"],\n",
       " ['AP',\n",
       "  'The Latest: Attackers arrived on foot and surprised Mali hotel guards at shift change: https://t.co/j9hOCvcJBp'],\n",
       " ['AP',\n",
       "  'Chinese company says three of its executives were killed in Mali hotel attack: https://t.co/Fa9CucEGky'],\n",
       " ['AP',\n",
       "  'BREAKING: Chinese company says 3 Chinese business executives among dead in Mali attack.'],\n",
       " ['AP',\n",
       "  'American killed in Mali hotel attack identified as woman from suburban Maryland: https://t.co/vHUVDskSqF'],\n",
       " ['AP',\n",
       "  'Keep up to date with the latest news from Mali. Get the details now in the AP Mobile app. https://t.co/LjHivHiCS5'],\n",
       " ['AP',\n",
       "  'US State Department confirms one American is among at least 19 people killed in Mali hotel attack: https://t.co/wS0eoMNhke'],\n",
       " ['AP',\n",
       "  \"(CORRECTS LINK) Death toll remains murky after Islamic militants attack hotel in Mali's capital: https://t.co/GzdsYxbwUX\"],\n",
       " ['AP',\n",
       "  \"Death toll remains murky after Islamic militants attack hotel in Mali's capital: https://t.co/jIgmbzfkZZ\"],\n",
       " ['AP',\n",
       "  'BREAKING: Turkish state media says 6 Turkish Airlines personnel are among hostages in Mali'],\n",
       " ['AP',\n",
       "  'BREAKING: US Embassy: Shooter at Radisson in Bamako, Mali. Americans should shelter in place.'],\n",
       " ['AP',\n",
       "  'BREAKING: UN officials: 2 jihadis killed, 27 people slain in Mali hotel attack, operations ongoing.'],\n",
       " ['AP',\n",
       "  'Army: 3 confirmed dead in attack on Mali hotel in capital: https://t.co/gJnoacZXh2'],\n",
       " ['AP',\n",
       "  'Islamic extremists armed with guns and grenades storm Radisson Blu hotel in Mali, killing three, officials say: https://t.co/O1JUyXf7UU'],\n",
       " ['AP',\n",
       "  '#AP10Things: Hostages taken after Mali hotel attacked; Netanyahu says U.S. frees man convicted of spying for Israel: https://t.co/AUsZhYFyqx'],\n",
       " ['AP', 'Radisson hotel in Mali attacked: https://t.co/ExGhgUlonT'],\n",
       " ['AP',\n",
       "  'Radisson hotel in Mali attacked; 170 hostages taken: https://t.co/3YLig9dHXS'],\n",
       " ['AP',\n",
       "  'Army: About 20 hostages freed from Mali hotel: https://t.co/P5KCDsHGQp'],\n",
       " ['AP',\n",
       "  'BREAKING: Military official says at least 3 dead following attack on Mali hotel where hostages held'],\n",
       " ['AP',\n",
       "  'BREAKING: Mali army commander says about 20 hostages freed from Bamako hotel seized by gunmen.'],\n",
       " ['AP',\n",
       "  'VIDEO: Footage shows police, soldiers outside Mali hotel that was attacked by gunmen: https://t.co/lgYw73RERH'],\n",
       " ['AP',\n",
       "  'BREAKING: Hotel company says 170 hostages - 140 guests and 30 employees - taken in Radisson Blu attack in Mali.'],\n",
       " ['AP',\n",
       "  \"Islamic extremists attack hotel in Mali's capital that was full of foreigners: https://t.co/qeOEHSSrKY https://t.co/iE8FrGiOK0\"]]"
      ]
     },
     "execution_count": 50,
     "metadata": {},
     "output_type": "execute_result"
    }
   ],
   "source": [
    "%%cypher\n",
    "match (u:user {uid: '51241574'})-->(n:tweet)\n",
    "return u.screen_name, n.text"
   ]
  },
  {
   "cell_type": "markdown",
   "metadata": {},
   "source": [
    "jean_jullien 1851229334"
   ]
  },
  {
   "cell_type": "code",
   "execution_count": 51,
   "metadata": {
    "collapsed": false
   },
   "outputs": [
    {
     "name": "stdout",
     "output_type": "stream",
     "text": [
      "0 rows affected.\n"
     ]
    },
    {
     "data": {
      "text/html": [
       "<table>\n",
       "    <tr>\n",
       "        <th>u.screen_name</th>\n",
       "    </tr>\n",
       "</table>"
      ],
      "text/plain": [
       "[]"
      ]
     },
     "execution_count": 51,
     "metadata": {},
     "output_type": "execute_result"
    }
   ],
   "source": [
    "%%cypher\n",
    "match (u:user {uid: '1851229334'})\n",
    "return u.screen_name"
   ]
  },
  {
   "cell_type": "markdown",
   "metadata": {},
   "source": [
    "Michael5SOS"
   ]
  },
  {
   "cell_type": "code",
   "execution_count": 52,
   "metadata": {
    "collapsed": false
   },
   "outputs": [
    {
     "name": "stdout",
     "output_type": "stream",
     "text": [
      "1 rows affected.\n"
     ]
    },
    {
     "data": {
      "text/html": [
       "<table>\n",
       "    <tr>\n",
       "        <th>u.screen_name</th>\n",
       "    </tr>\n",
       "    <tr>\n",
       "        <td>Michael5SOS</td>\n",
       "    </tr>\n",
       "</table>"
      ],
      "text/plain": [
       "[['Michael5SOS']]"
      ]
     },
     "execution_count": 52,
     "metadata": {},
     "output_type": "execute_result"
    }
   ],
   "source": [
    "%%cypher\n",
    "match (u:user {uid: '403246803'})\n",
    "return u.screen_name"
   ]
  },
  {
   "cell_type": "code",
   "execution_count": 53,
   "metadata": {
    "collapsed": false
   },
   "outputs": [
    {
     "name": "stdout",
     "output_type": "stream",
     "text": [
      "0 rows affected.\n"
     ]
    },
    {
     "data": {
      "text/html": [
       "<table>\n",
       "    <tr>\n",
       "        <th>u.screen_name</th>\n",
       "        <th>n.text</th>\n",
       "    </tr>\n",
       "</table>"
      ],
      "text/plain": [
       "[]"
      ]
     },
     "execution_count": 53,
     "metadata": {},
     "output_type": "execute_result"
    }
   ],
   "source": [
    "%%cypher\n",
    "match (u:user {uid: '403246803'})-->(n:tweet)\n",
    "return u.screen_name, n.text"
   ]
  },
  {
   "cell_type": "code",
   "execution_count": 54,
   "metadata": {
    "collapsed": false
   },
   "outputs": [
    {
     "name": "stdout",
     "output_type": "stream",
     "text": [
      "1 rows affected.\n"
     ]
    },
    {
     "data": {
      "text/html": [
       "<table>\n",
       "    <tr>\n",
       "        <th>u.screen_name</th>\n",
       "        <th>n.text</th>\n",
       "    </tr>\n",
       "    <tr>\n",
       "        <td>Michael5SOS</td>\n",
       "        <td>@modestclifford @Bxtchinghemmo @Luke5SOS @Ashton5SOS @Calum5SOS @Michael5SOS @5SOS Calum looks like Mali koa</td>\n",
       "    </tr>\n",
       "</table>"
      ],
      "text/plain": [
       "[['Michael5SOS',\n",
       "  '@modestclifford @Bxtchinghemmo @Luke5SOS @Ashton5SOS @Calum5SOS @Michael5SOS @5SOS Calum looks like Mali koa']]"
      ]
     },
     "execution_count": 54,
     "metadata": {},
     "output_type": "execute_result"
    }
   ],
   "source": [
    "%%cypher\n",
    "match (u:user {uid: '403246803'})<--(n:tweet)\n",
    "return u.screen_name, n.text"
   ]
  },
  {
   "cell_type": "markdown",
   "metadata": {},
   "source": [
    "taylorswift13"
   ]
  },
  {
   "cell_type": "code",
   "execution_count": 56,
   "metadata": {
    "collapsed": false
   },
   "outputs": [
    {
     "name": "stdout",
     "output_type": "stream",
     "text": [
      "1 rows affected.\n"
     ]
    },
    {
     "data": {
      "text/html": [
       "<table>\n",
       "    <tr>\n",
       "        <th>u.screen_name</th>\n",
       "        <th>u.uid</th>\n",
       "    </tr>\n",
       "    <tr>\n",
       "        <td>taylorswift13</td>\n",
       "        <td>17919972</td>\n",
       "    </tr>\n",
       "</table>"
      ],
      "text/plain": [
       "[['taylorswift13', '17919972']]"
      ]
     },
     "execution_count": 56,
     "metadata": {},
     "output_type": "execute_result"
    }
   ],
   "source": [
    "%%cypher\n",
    "match (u:user {screen_name: 'taylorswift13'})\n",
    "return u.screen_name, u.uid"
   ]
  },
  {
   "cell_type": "code",
   "execution_count": 57,
   "metadata": {
    "collapsed": false
   },
   "outputs": [
    {
     "name": "stdout",
     "output_type": "stream",
     "text": [
      "0 rows affected.\n"
     ]
    },
    {
     "data": {
      "text/html": [
       "<table>\n",
       "    <tr>\n",
       "        <th>u.screen_name</th>\n",
       "        <th>n.text</th>\n",
       "    </tr>\n",
       "</table>"
      ],
      "text/plain": [
       "[]"
      ]
     },
     "execution_count": 57,
     "metadata": {},
     "output_type": "execute_result"
    }
   ],
   "source": [
    "%%cypher\n",
    "match (u:user {uid: '17919972'})-->(n:tweet)\n",
    "return u.screen_name, n.text"
   ]
  },
  {
   "cell_type": "code",
   "execution_count": 58,
   "metadata": {
    "collapsed": false
   },
   "outputs": [
    {
     "name": "stdout",
     "output_type": "stream",
     "text": [
      "2 rows affected.\n"
     ]
    },
    {
     "data": {
      "text/html": [
       "<table>\n",
       "    <tr>\n",
       "        <th>u.screen_name</th>\n",
       "        <th>n.text</th>\n",
       "    </tr>\n",
       "    <tr>\n",
       "        <td>taylorswift13</td>\n",
       "        <td>@taylorswift13 what about #Nigeria #Palestine and #Mali or is #Africa &amp;amp; #MiddleEast not included in your opinion? Or what is your view?</td>\n",
       "    </tr>\n",
       "    <tr>\n",
       "        <td>taylorswift13</td>\n",
       "        <td>@taylorswift13 @SwiftQuotesPage @21stCenturyGM @DEVINESTJOHN1 @StJohnsTelegram @KatyPerrysBeau1 @St @TheDivineJohn R @lairdofcamster #Mali</td>\n",
       "    </tr>\n",
       "</table>"
      ],
      "text/plain": [
       "[['taylorswift13',\n",
       "  '@taylorswift13 what about #Nigeria #Palestine and #Mali or is #Africa &amp; #MiddleEast not included in your opinion? Or what is your view?'],\n",
       " ['taylorswift13',\n",
       "  '@taylorswift13 @SwiftQuotesPage @21stCenturyGM @DEVINESTJOHN1 @StJohnsTelegram @KatyPerrysBeau1 @St @TheDivineJohn R @lairdofcamster #Mali']]"
      ]
     },
     "execution_count": 58,
     "metadata": {},
     "output_type": "execute_result"
    }
   ],
   "source": [
    "%%cypher\n",
    "match (u:user {uid: '17919972'})<--(n:tweet)\n",
    "return u.screen_name, n.text"
   ]
  },
  {
   "cell_type": "code",
   "execution_count": null,
   "metadata": {
    "collapsed": true
   },
   "outputs": [],
   "source": []
  }
 ],
 "metadata": {
  "kernelspec": {
   "display_name": "Python 3",
   "language": "python",
   "name": "python3"
  },
  "language_info": {
   "codemirror_mode": {
    "name": "ipython",
    "version": 3
   },
   "file_extension": ".py",
   "mimetype": "text/x-python",
   "name": "python",
   "nbconvert_exporter": "python",
   "pygments_lexer": "ipython3",
   "version": "3.4.3"
  }
 },
 "nbformat": 4,
 "nbformat_minor": 0
}
