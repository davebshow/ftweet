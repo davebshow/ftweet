{
 "cells": [
  {
   "cell_type": "code",
   "execution_count": 1,
   "metadata": {
    "collapsed": false
   },
   "outputs": [
    {
     "name": "stderr",
     "output_type": "stream",
     "text": [
      "/home/davebshow/.virtualenvs/scientific3/lib/python3.4/site-packages/IPython/config.py:13: ShimWarning: The `IPython.config` package has been deprecated. You should import from traitlets.config instead.\n",
      "  \"You should import from traitlets.config instead.\", ShimWarning)\n",
      "/home/davebshow/.virtualenvs/scientific3/lib/python3.4/site-packages/IPython/utils/traitlets.py:5: UserWarning: IPython.utils.traitlets has moved to a top-level traitlets package.\n",
      "  warn(\"IPython.utils.traitlets has moved to a top-level traitlets package.\")\n"
     ]
    }
   ],
   "source": [
    "%load_ext cypher\n",
    "import operator\n",
    "import numpy as np"
   ]
  },
  {
   "cell_type": "code",
   "execution_count": 5,
   "metadata": {
    "collapsed": false
   },
   "outputs": [
    {
     "name": "stdout",
     "output_type": "stream",
     "text": [
      "6113716 rows affected.\n"
     ]
    }
   ],
   "source": [
    "tweet_langs = %cypher match (n:tweet)--(m:tweet) where n.lang is not null and m.lang is not null and m.lang <> \"und\" and n.lang <> \"und\" return n.lang, m.lang"
   ]
  },
  {
   "cell_type": "code",
   "execution_count": 6,
   "metadata": {
    "collapsed": false
   },
   "outputs": [
    {
     "data": {
      "text/html": [
       "<div>\n",
       "<table border=\"1\" class=\"dataframe\">\n",
       "  <thead>\n",
       "    <tr style=\"text-align: right;\">\n",
       "      <th></th>\n",
       "      <th>n.lang</th>\n",
       "      <th>m.lang</th>\n",
       "    </tr>\n",
       "  </thead>\n",
       "  <tbody>\n",
       "    <tr>\n",
       "      <th>0</th>\n",
       "      <td>tr</td>\n",
       "      <td>tr</td>\n",
       "    </tr>\n",
       "    <tr>\n",
       "      <th>1</th>\n",
       "      <td>en</td>\n",
       "      <td>en</td>\n",
       "    </tr>\n",
       "    <tr>\n",
       "      <th>2</th>\n",
       "      <td>en</td>\n",
       "      <td>en</td>\n",
       "    </tr>\n",
       "    <tr>\n",
       "      <th>3</th>\n",
       "      <td>en</td>\n",
       "      <td>en</td>\n",
       "    </tr>\n",
       "    <tr>\n",
       "      <th>4</th>\n",
       "      <td>en</td>\n",
       "      <td>en</td>\n",
       "    </tr>\n",
       "  </tbody>\n",
       "</table>\n",
       "</div>"
      ],
      "text/plain": [
       "  n.lang m.lang\n",
       "0     tr     tr\n",
       "1     en     en\n",
       "2     en     en\n",
       "3     en     en\n",
       "4     en     en"
      ]
     },
     "execution_count": 6,
     "metadata": {},
     "output_type": "execute_result"
    }
   ],
   "source": [
    "tweet_langs = tweet_langs.get_dataframe()\n",
    "tweet_langs.head()"
   ]
  },
  {
   "cell_type": "code",
   "execution_count": 7,
   "metadata": {
    "collapsed": true
   },
   "outputs": [],
   "source": [
    "lang_groups = tweet_langs.groupby([\"n.lang\", \"m.lang\"])"
   ]
  },
  {
   "cell_type": "code",
   "execution_count": 8,
   "metadata": {
    "collapsed": true
   },
   "outputs": [],
   "source": [
    "lang_freq = lang_groups.groups\n",
    "lang_freq = {k: len(v) for k, v in lang_freq.items()}"
   ]
  },
  {
   "cell_type": "code",
   "execution_count": 9,
   "metadata": {
    "collapsed": true
   },
   "outputs": [],
   "source": [
    "langs = sorted(lang_freq.items(), key=operator.itemgetter(1), reverse=True)"
   ]
  },
  {
   "cell_type": "code",
   "execution_count": 10,
   "metadata": {
    "collapsed": false
   },
   "outputs": [
    {
     "data": {
      "text/plain": [
       "((('en', 'en'), 4264830), (('ro', 'ro'), 1112))"
      ]
     },
     "execution_count": 10,
     "metadata": {},
     "output_type": "execute_result"
    }
   ],
   "source": [
    "langs[:25][0], langs[:25][-1]"
   ]
  },
  {
   "cell_type": "code",
   "execution_count": 15,
   "metadata": {
    "collapsed": false
   },
   "outputs": [
    {
     "data": {
      "text/plain": [
       "[('fr', 'en'),\n",
       " ('en', 'fr'),\n",
       " ('und', 'en'),\n",
       " ('en', 'und'),\n",
       " ('es', 'en'),\n",
       " ('en', 'es'),\n",
       " ('fr', 'und'),\n",
       " ('und', 'fr')]"
      ]
     },
     "execution_count": 15,
     "metadata": {},
     "output_type": "execute_result"
    }
   ],
   "source": [
    "[k for k, v in langs[:50] if k[0] != k[1]]"
   ]
  },
  {
   "cell_type": "code",
   "execution_count": 33,
   "metadata": {
    "collapsed": false
   },
   "outputs": [],
   "source": [
    "lang_freq = {k: v for k, v in langs[:25]}"
   ]
  },
  {
   "cell_type": "code",
   "execution_count": 37,
   "metadata": {
    "collapsed": false
   },
   "outputs": [
    {
     "data": {
      "text/plain": [
       "[(('hr', 'hr'), 106),\n",
       " (('es', 'en'), 76),\n",
       " (('tl', 'tl'), 9650),\n",
       " (('pt', 'pt'), 216686),\n",
       " (('ja', 'ja'), 10866)]"
      ]
     },
     "execution_count": 37,
     "metadata": {},
     "output_type": "execute_result"
    }
   ],
   "source": [
    "list(lang_freq.items())[0:5]"
   ]
  },
  {
   "cell_type": "code",
   "execution_count": 38,
   "metadata": {
    "collapsed": false
   },
   "outputs": [],
   "source": [
    "keys = np.array(list(lang_freq.keys()))\n",
    "vals = np.array(list(lang_freq.values()))\n",
    "unq_keys, key_idx = np.unique(keys, return_inverse=True)\n",
    "key_idx = key_idx.reshape(-1, 2)\n",
    "n = len(unq_keys)\n",
    "adj = np.zeros((n, n) ,dtype=vals.dtype)\n",
    "adj[key_idx[:,0], key_idx[: ,1]] = vals\n",
    "adj += adj.T"
   ]
  },
  {
   "cell_type": "code",
   "execution_count": 3,
   "metadata": {
    "collapsed": false
   },
   "outputs": [
    {
     "ename": "NameError",
     "evalue": "name 'adj' is not defined",
     "output_type": "error",
     "traceback": [
      "\u001b[1;31m---------------------------------------------------------------------------\u001b[0m",
      "\u001b[1;31mNameError\u001b[0m                                 Traceback (most recent call last)",
      "\u001b[1;32m<ipython-input-3-00da27f6971b>\u001b[0m in \u001b[0;36m<module>\u001b[1;34m()\u001b[0m\n\u001b[1;32m----> 1\u001b[1;33m \u001b[0madj\u001b[0m\u001b[1;33m\u001b[0m\u001b[0m\n\u001b[0m",
      "\u001b[1;31mNameError\u001b[0m: name 'adj' is not defined"
     ]
    }
   ],
   "source": [
    "adj"
   ]
  },
  {
   "cell_type": "code",
   "execution_count": 24,
   "metadata": {
    "collapsed": false
   },
   "outputs": [
    {
     "data": {
      "text/plain": [
       "[('fr', 'pt'),\n",
       " ('tr', 'lt'),\n",
       " ('ne', 'ne'),\n",
       " ('pt', 'fr'),\n",
       " ('es', 'es'),\n",
       " ('tl', 'es'),\n",
       " ('sk', 'en'),\n",
       " ('ja', 'ja'),\n",
       " ('tl', 'in'),\n",
       " ('it', 'pt'),\n",
       " ('en', 'hi'),\n",
       " ('it', 'fr'),\n",
       " ('es', 'en'),\n",
       " ('ro', 'fr'),\n",
       " ('fr', 'in'),\n",
       " ('es', 'et'),\n",
       " ('pt', 'und'),\n",
       " ('ru', 'ru'),\n",
       " ('es', 'ja'),\n",
       " ('ru', 'und'),\n",
       " ('de', 'und'),\n",
       " ('fr', 'es'),\n",
       " ('und', 'und'),\n",
       " ('pl', 'und'),\n",
       " ('et', 'et'),\n",
       " ('ja', 'es'),\n",
       " ('und', 'in'),\n",
       " ('sk', 'nl'),\n",
       " ('no', 'no'),\n",
       " ('in', 'und'),\n",
       " ('und', 'pt'),\n",
       " ('fr', 'et'),\n",
       " ('pt', 'tr'),\n",
       " ('no', 'tr'),\n",
       " ('in', 'hr'),\n",
       " ('en', 'en'),\n",
       " ('hu', 'hu'),\n",
       " ('de', 'nl'),\n",
       " ('tr', 'fr'),\n",
       " ('no', 'en'),\n",
       " ('ta', 'ta'),\n",
       " ('en', 'lv'),\n",
       " ('in', 'ar'),\n",
       " ('lv', 'en'),\n",
       " ('fr', 'tl'),\n",
       " ('es', 'pl'),\n",
       " ('tr', 'en'),\n",
       " ('es', 'tl'),\n",
       " ('ru', 'es'),\n",
       " ('en', 'sl'),\n",
       " ('de', 'tr'),\n",
       " ('ar', 'ar'),\n",
       " ('ka', 'ka'),\n",
       " ('und', 'de'),\n",
       " ('ru', 'fr'),\n",
       " ('ko', 'in'),\n",
       " ('en', 'ja'),\n",
       " ('fr', 'de'),\n",
       " ('th', 'en'),\n",
       " ('fr', 'ja'),\n",
       " ('tr', 'tr'),\n",
       " ('tl', 'fr'),\n",
       " ('en', 'sv'),\n",
       " ('nl', 'fr'),\n",
       " ('en', 'da'),\n",
       " ('tr', 'pt'),\n",
       " ('bs', 'bs'),\n",
       " ('et', 'und'),\n",
       " ('no', 'sv'),\n",
       " ('ur', 'ur'),\n",
       " ('el', 'fr'),\n",
       " ('de', 'en'),\n",
       " ('pt', 'it'),\n",
       " ('lt', 'en'),\n",
       " ('ru', 'en'),\n",
       " ('und', 'fr'),\n",
       " ('en', 'ro'),\n",
       " ('sv', 'fr'),\n",
       " ('de', 'fr'),\n",
       " ('en', 'et'),\n",
       " ('in', 'in'),\n",
       " ('lt', 'tr'),\n",
       " ('und', 'it'),\n",
       " ('te', 'te'),\n",
       " ('en', 'es'),\n",
       " ('en', 'ru'),\n",
       " ('en', 'in'),\n",
       " ('nl', 'de'),\n",
       " ('en', 'pl'),\n",
       " ('fr', 'ar'),\n",
       " ('iw', 'iw'),\n",
       " ('tr', 'no'),\n",
       " ('hi', 'tl'),\n",
       " ('hi', 'en'),\n",
       " ('en', 'ko'),\n",
       " ('ro', 'ro'),\n",
       " ('it', 'und'),\n",
       " ('es', 'ru'),\n",
       " ('pl', 'pl'),\n",
       " ('fa', 'fa'),\n",
       " ('et', 'es'),\n",
       " ('und', 'en'),\n",
       " ('sl', 'sl'),\n",
       " ('de', 'es'),\n",
       " ('en', 'lt'),\n",
       " ('fr', 'it'),\n",
       " ('uk', 'uk'),\n",
       " ('et', 'in'),\n",
       " ('pt', 'es'),\n",
       " ('fr', 'sv'),\n",
       " ('in', 'hi'),\n",
       " ('iw', 'en'),\n",
       " ('th', 'th'),\n",
       " ('pt', 'pt'),\n",
       " ('sv', 'no'),\n",
       " ('is', 'is'),\n",
       " ('sv', 'en'),\n",
       " ('fr', 'nl'),\n",
       " ('fr', 'tr'),\n",
       " ('it', 'it'),\n",
       " ('et', 'en'),\n",
       " ('lt', 'lt'),\n",
       " ('en', 'hr'),\n",
       " ('pt', 'tl'),\n",
       " ('nl', 'en'),\n",
       " ('hi', 'et'),\n",
       " ('zh', 'en'),\n",
       " ('en', 'fr'),\n",
       " ('da', 'da'),\n",
       " ('bn', 'bn'),\n",
       " ('und', 'tr'),\n",
       " ('nl', 'sk'),\n",
       " ('en', 'pt'),\n",
       " ('en', 'tl'),\n",
       " ('tr', 'und'),\n",
       " ('pt', 'en'),\n",
       " ('pa', 'pa'),\n",
       " ('en', 'it'),\n",
       " ('pl', 'es'),\n",
       " ('in', 'tl'),\n",
       " ('en', 'iw'),\n",
       " ('in', 'pl'),\n",
       " ('lv', 'lv'),\n",
       " ('en', 'sk'),\n",
       " ('mr', 'mr'),\n",
       " ('in', 'fr'),\n",
       " ('tl', 'en'),\n",
       " ('tl', 'tl'),\n",
       " ('ml', 'ml'),\n",
       " ('in', 'et'),\n",
       " ('et', 'hi'),\n",
       " ('sr', 'sr'),\n",
       " ('pl', 'fr'),\n",
       " ('ar', 'fr'),\n",
       " ('fr', 'ru'),\n",
       " ('hr', 'hr'),\n",
       " ('el', 'el'),\n",
       " ('ja', 'en'),\n",
       " ('et', 'fr'),\n",
       " ('en', 'de'),\n",
       " ('de', 'de'),\n",
       " ('bg', 'bg'),\n",
       " ('tl', 'pt'),\n",
       " ('tl', 'hi'),\n",
       " ('sk', 'sk'),\n",
       " ('pl', 'en'),\n",
       " ('nl', 'nl'),\n",
       " ('ko', 'en'),\n",
       " ('it', 'en'),\n",
       " ('fr', 'ro'),\n",
       " ('hr', 'in'),\n",
       " ('fr', 'fr'),\n",
       " ('es', 'fr'),\n",
       " ('ko', 'ko'),\n",
       " ('fr', 'pl'),\n",
       " ('es', 'und'),\n",
       " ('en', 'th'),\n",
       " ('fi', 'fi'),\n",
       " ('ro', 'en'),\n",
       " ('ja', 'fr'),\n",
       " ('sl', 'en'),\n",
       " ('hi', 'in'),\n",
       " ('si', 'si'),\n",
       " ('da', 'en'),\n",
       " ('tr', 'de'),\n",
       " ('und', 'et'),\n",
       " ('en', 'und'),\n",
       " ('vi', 'vi'),\n",
       " ('in', 'ko'),\n",
       " ('en', 'tr'),\n",
       " ('in', 'en'),\n",
       " ('ar', 'in'),\n",
       " ('und', 'ru'),\n",
       " ('fr', 'el'),\n",
       " ('und', 'pl'),\n",
       " ('da', 'tr'),\n",
       " ('es', 'de'),\n",
       " ('zh', 'zh'),\n",
       " ('sv', 'sv'),\n",
       " ('fr', 'und'),\n",
       " ('und', 'es'),\n",
       " ('pl', 'in'),\n",
       " ('en', 'no'),\n",
       " ('hi', 'hi'),\n",
       " ('hr', 'en'),\n",
       " ('tr', 'da'),\n",
       " ('en', 'nl'),\n",
       " ('en', 'fi'),\n",
       " ('fi', 'en'),\n",
       " ('es', 'pt'),\n",
       " ('en', 'zh'),\n",
       " ('fr', 'en')]"
      ]
     },
     "execution_count": 24,
     "metadata": {},
     "output_type": "execute_result"
    }
   ],
   "source": [
    "list(lang_freq.keys())"
   ]
  },
  {
   "cell_type": "code",
   "execution_count": null,
   "metadata": {
    "collapsed": true
   },
   "outputs": [],
   "source": []
  },
  {
   "cell_type": "code",
   "execution_count": null,
   "metadata": {
    "collapsed": true
   },
   "outputs": [],
   "source": []
  },
  {
   "cell_type": "code",
   "execution_count": null,
   "metadata": {
    "collapsed": true
   },
   "outputs": [],
   "source": []
  },
  {
   "cell_type": "code",
   "execution_count": null,
   "metadata": {
    "collapsed": true
   },
   "outputs": [],
   "source": []
  },
  {
   "cell_type": "code",
   "execution_count": null,
   "metadata": {
    "collapsed": true
   },
   "outputs": [],
   "source": []
  },
  {
   "cell_type": "code",
   "execution_count": 2,
   "metadata": {
    "collapsed": false
   },
   "outputs": [
    {
     "name": "stdout",
     "output_type": "stream",
     "text": [
      "24432 rows affected.\n"
     ]
    }
   ],
   "source": [
    "replies = %cypher match (t1:tweet)-[:REPLIES_TO]-(t2:tweet) where t1.lang is not null and t2.lang is not null return t1, t2"
   ]
  },
  {
   "cell_type": "code",
   "execution_count": 4,
   "metadata": {
    "collapsed": false
   },
   "outputs": [
    {
     "data": {
      "text/html": [
       "<div>\n",
       "<table border=\"1\" class=\"dataframe\">\n",
       "  <thead>\n",
       "    <tr style=\"text-align: right;\">\n",
       "      <th></th>\n",
       "      <th>t1</th>\n",
       "      <th>t2</th>\n",
       "    </tr>\n",
       "  </thead>\n",
       "  <tbody>\n",
       "    <tr>\n",
       "      <th>0</th>\n",
       "      <td>{'text': '@MaluVaccaro Praying for Paris... 🙏🏼...</td>\n",
       "      <td>{'text': 'Pray for Paris! 🔵🔴⚪', 'subjectivity'...</td>\n",
       "    </tr>\n",
       "    <tr>\n",
       "      <th>1</th>\n",
       "      <td>{'text': 'And what steps will you be taking to...</td>\n",
       "      <td>{'text': 'Sydney strongly supports the people ...</td>\n",
       "    </tr>\n",
       "    <tr>\n",
       "      <th>2</th>\n",
       "      <td>{'clean_text': 'concordo...mas n sei pq fizera...</td>\n",
       "      <td>{'text': 'I just can't seem to fathom what hap...</td>\n",
       "    </tr>\n",
       "    <tr>\n",
       "      <th>3</th>\n",
       "      <td>{'text': 'Paris shows IS getting stronger: Abb...</td>\n",
       "      <td>{'text': '@SBSNews Seriously, why would anyone...</td>\n",
       "    </tr>\n",
       "    <tr>\n",
       "      <th>4</th>\n",
       "      <td>{'text': 'Attentats de #Paris : plus de 200 bl...</td>\n",
       "      <td>{'text': '@LP_LaPresse Tennez bon Paris !!! Le...</td>\n",
       "    </tr>\n",
       "  </tbody>\n",
       "</table>\n",
       "</div>"
      ],
      "text/plain": [
       "                                                  t1  \\\n",
       "0  {'text': '@MaluVaccaro Praying for Paris... 🙏🏼...   \n",
       "1  {'text': 'And what steps will you be taking to...   \n",
       "2  {'clean_text': 'concordo...mas n sei pq fizera...   \n",
       "3  {'text': 'Paris shows IS getting stronger: Abb...   \n",
       "4  {'text': 'Attentats de #Paris : plus de 200 bl...   \n",
       "\n",
       "                                                  t2  \n",
       "0  {'text': 'Pray for Paris! 🔵🔴⚪', 'subjectivity'...  \n",
       "1  {'text': 'Sydney strongly supports the people ...  \n",
       "2  {'text': 'I just can't seem to fathom what hap...  \n",
       "3  {'text': '@SBSNews Seriously, why would anyone...  \n",
       "4  {'text': '@LP_LaPresse Tennez bon Paris !!! Le...  "
      ]
     },
     "execution_count": 4,
     "metadata": {},
     "output_type": "execute_result"
    }
   ],
   "source": [
    "reply_df = replies.get_dataframe()\n",
    "reply_df.head()"
   ]
  },
  {
   "cell_type": "code",
   "execution_count": 8,
   "metadata": {
    "collapsed": false
   },
   "outputs": [
    {
     "name": "stdout",
     "output_type": "stream",
     "text": [
      "2390 rows affected.\n"
     ]
    }
   ],
   "source": [
    "replies = %cypher match (t1:tweet)-[:REPLIES_TO]-(t2:tweet) where t1.lang is not null and t2.lang is not null and t1.lang <> t2.lang return t1, t2"
   ]
  },
  {
   "cell_type": "code",
   "execution_count": 9,
   "metadata": {
    "collapsed": false
   },
   "outputs": [
    {
     "data": {
      "text/html": [
       "<div>\n",
       "<table border=\"1\" class=\"dataframe\">\n",
       "  <thead>\n",
       "    <tr style=\"text-align: right;\">\n",
       "      <th></th>\n",
       "      <th>t1</th>\n",
       "      <th>t2</th>\n",
       "    </tr>\n",
       "  </thead>\n",
       "  <tbody>\n",
       "    <tr>\n",
       "      <th>0</th>\n",
       "      <td>{'clean_text': 'concordo...mas n sei pq fizera...</td>\n",
       "      <td>{'text': 'I just can't seem to fathom what hap...</td>\n",
       "    </tr>\n",
       "    <tr>\n",
       "      <th>1</th>\n",
       "      <td>{'text': 'Vols de Dallas à #Paris sont à nouve...</td>\n",
       "      <td>{'text': 'Flights from DFW to #Paris are openi...</td>\n",
       "    </tr>\n",
       "    <tr>\n",
       "      <th>2</th>\n",
       "      <td>{'text': '@welt \n",
       "@thedailybeast column: Welcom...</td>\n",
       "      <td>{'clean_text': 'Mehr als 120 Tote: Was Sie übe...</td>\n",
       "    </tr>\n",
       "    <tr>\n",
       "      <th>3</th>\n",
       "      <td>{'country': 'United States', 'text': '@katemoe...</td>\n",
       "      <td>{'text': 'Sending all my love to Paris. 🇫🇷🇫🇷🇫🇷...</td>\n",
       "    </tr>\n",
       "    <tr>\n",
       "      <th>4</th>\n",
       "      <td>{'text': 'Our city hall lit up in solidarity w...</td>\n",
       "      <td>{'lang': 'und', 'text': '@TelAvivNonstop @Isra...</td>\n",
       "    </tr>\n",
       "  </tbody>\n",
       "</table>\n",
       "</div>"
      ],
      "text/plain": [
       "                                                  t1  \\\n",
       "0  {'clean_text': 'concordo...mas n sei pq fizera...   \n",
       "1  {'text': 'Vols de Dallas à #Paris sont à nouve...   \n",
       "2  {'text': '@welt \n",
       "@thedailybeast column: Welcom...   \n",
       "3  {'country': 'United States', 'text': '@katemoe...   \n",
       "4  {'text': 'Our city hall lit up in solidarity w...   \n",
       "\n",
       "                                                  t2  \n",
       "0  {'text': 'I just can't seem to fathom what hap...  \n",
       "1  {'text': 'Flights from DFW to #Paris are openi...  \n",
       "2  {'clean_text': 'Mehr als 120 Tote: Was Sie übe...  \n",
       "3  {'text': 'Sending all my love to Paris. 🇫🇷🇫🇷🇫🇷...  \n",
       "4  {'lang': 'und', 'text': '@TelAvivNonstop @Isra...  "
      ]
     },
     "execution_count": 9,
     "metadata": {},
     "output_type": "execute_result"
    }
   ],
   "source": [
    "rt_df = replies.get_dataframe()\n",
    "rt_df.head()"
   ]
  },
  {
   "cell_type": "code",
   "execution_count": null,
   "metadata": {
    "collapsed": true
   },
   "outputs": [],
   "source": []
  }
 ],
 "metadata": {
  "kernelspec": {
   "display_name": "Python 3",
   "language": "python",
   "name": "python3"
  },
  "language_info": {
   "codemirror_mode": {
    "name": "ipython",
    "version": 3
   },
   "file_extension": ".py",
   "mimetype": "text/x-python",
   "name": "python",
   "nbconvert_exporter": "python",
   "pygments_lexer": "ipython3",
   "version": "3.4.3"
  }
 },
 "nbformat": 4,
 "nbformat_minor": 0
}
