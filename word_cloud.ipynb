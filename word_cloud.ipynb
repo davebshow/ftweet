{
 "cells": [
  {
   "cell_type": "code",
   "execution_count": 1,
   "metadata": {
    "collapsed": true
   },
   "outputs": [],
   "source": [
    "import json\n",
    "import pandas as pd\n",
    "import numpy as np"
   ]
  },
  {
   "cell_type": "code",
   "execution_count": 16,
   "metadata": {
    "collapsed": false
   },
   "outputs": [
    {
     "data": {
      "text/html": [
       "<div style=\"max-height:1000px;max-width:1500px;overflow:auto;\">\n",
       "<table border=\"1\" class=\"dataframe\">\n",
       "  <thead>\n",
       "    <tr style=\"text-align: right;\">\n",
       "      <th></th>\n",
       "      <th>n</th>\n",
       "      <th>deg</th>\n",
       "    </tr>\n",
       "  </thead>\n",
       "  <tbody>\n",
       "    <tr>\n",
       "      <th>0</th>\n",
       "      <td>          {\"tagid\":\"h3\",\"hashtag\":\"paris\"}</td>\n",
       "      <td> 719571</td>\n",
       "    </tr>\n",
       "    <tr>\n",
       "      <th>1</th>\n",
       "      <td>   {\"tagid\":\"h2\",\"hashtag\":\"prayforparis\"}</td>\n",
       "      <td> 368931</td>\n",
       "    </tr>\n",
       "    <tr>\n",
       "      <th>2</th>\n",
       "      <td>   {\"tagid\":\"h5\",\"hashtag\":\"parisattacks\"}</td>\n",
       "      <td> 206159</td>\n",
       "    </tr>\n",
       "    <tr>\n",
       "      <th>3</th>\n",
       "      <td> {\"tagid\":\"h19\",\"hashtag\":\"prayers4paris\"}</td>\n",
       "      <td>  52805</td>\n",
       "    </tr>\n",
       "    <tr>\n",
       "      <th>4</th>\n",
       "      <td>       {\"tagid\":\"h8\",\"hashtag\":\"bataclan\"}</td>\n",
       "      <td>  51524</td>\n",
       "    </tr>\n",
       "  </tbody>\n",
       "</table>\n",
       "</div>"
      ],
      "text/plain": [
       "                                           n     deg\n",
       "0           {\"tagid\":\"h3\",\"hashtag\":\"paris\"}  719571\n",
       "1    {\"tagid\":\"h2\",\"hashtag\":\"prayforparis\"}  368931\n",
       "2    {\"tagid\":\"h5\",\"hashtag\":\"parisattacks\"}  206159\n",
       "3  {\"tagid\":\"h19\",\"hashtag\":\"prayers4paris\"}   52805\n",
       "4        {\"tagid\":\"h8\",\"hashtag\":\"bataclan\"}   51524"
      ]
     },
     "execution_count": 16,
     "metadata": {},
     "output_type": "execute_result"
    }
   ],
   "source": [
    "hts = pd.read_csv(\"data/top_hashtags.csv\")\n",
    "# Should have made a better query\n",
    "hts.head()"
   ]
  },
  {
   "cell_type": "code",
   "execution_count": 17,
   "metadata": {
    "collapsed": false
   },
   "outputs": [
    {
     "data": {
      "text/plain": [
       "1798"
      ]
     },
     "execution_count": 17,
     "metadata": {},
     "output_type": "execute_result"
    }
   ],
   "source": [
    "min_deg = hts[\"deg\"].min()\n",
    "min_deg"
   ]
  },
  {
   "cell_type": "code",
   "execution_count": 18,
   "metadata": {
    "collapsed": false
   },
   "outputs": [
    {
     "data": {
      "text/plain": [
       "719571"
      ]
     },
     "execution_count": 18,
     "metadata": {},
     "output_type": "execute_result"
    }
   ],
   "source": [
    "max_deg = hts[\"deg\"].max()\n",
    "max_deg"
   ]
  },
  {
   "cell_type": "code",
   "execution_count": 19,
   "metadata": {
    "collapsed": false
   },
   "outputs": [],
   "source": [
    "converted = [{\"text\": \"#\" + json.loads(row[1][\"n\"])[\"hashtag\"],\n",
    "              \"size\": np.interp(row[1][\"deg\"], [min_deg, max_deg], [5, 100])} for row in hts.iterrows()]"
   ]
  },
  {
   "cell_type": "code",
   "execution_count": 20,
   "metadata": {
    "collapsed": false
   },
   "outputs": [],
   "source": [
    "f = open('data/hashtag_sizes.js', 'w')\n",
    "json.dump(converted, f)\n",
    "f.close()"
   ]
  },
  {
   "cell_type": "code",
   "execution_count": null,
   "metadata": {
    "collapsed": true
   },
   "outputs": [],
   "source": []
  }
 ],
 "metadata": {
  "kernelspec": {
   "display_name": "Python 3",
   "language": "python",
   "name": "python3"
  },
  "language_info": {
   "codemirror_mode": {
    "name": "ipython",
    "version": 3
   },
   "file_extension": ".py",
   "mimetype": "text/x-python",
   "name": "python",
   "nbconvert_exporter": "python",
   "pygments_lexer": "ipython3",
   "version": "3.4.0"
  }
 },
 "nbformat": 4,
 "nbformat_minor": 0
}
