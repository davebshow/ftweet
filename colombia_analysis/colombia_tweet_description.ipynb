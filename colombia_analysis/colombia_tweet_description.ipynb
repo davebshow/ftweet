{
 "cells": [
  {
   "cell_type": "code",
   "execution_count": 1,
   "metadata": {
    "collapsed": false
   },
   "outputs": [],
   "source": [
    "%load_ext cypher\n",
    "%matplotlib inline\n",
    "import pandas as pd"
   ]
  },
  {
   "cell_type": "markdown",
   "metadata": {},
   "source": [
    "### Number of Tweets"
   ]
  },
  {
   "cell_type": "code",
   "execution_count": 2,
   "metadata": {
    "collapsed": false
   },
   "outputs": [
    {
     "name": "stdout",
     "output_type": "stream",
     "text": [
      "1 rows affected.\n"
     ]
    },
    {
     "data": {
      "text/html": [
       "<table>\n",
       "    <tr>\n",
       "        <th>count(n)</th>\n",
       "    </tr>\n",
       "    <tr>\n",
       "        <td>337174</td>\n",
       "    </tr>\n",
       "</table>"
      ],
      "text/plain": [
       "[[337174]]"
      ]
     },
     "execution_count": 2,
     "metadata": {},
     "output_type": "execute_result"
    }
   ],
   "source": [
    "%cypher match (n:tweet) return count(n)"
   ]
  },
  {
   "cell_type": "markdown",
   "metadata": {},
   "source": [
    "### Number of users"
   ]
  },
  {
   "cell_type": "code",
   "execution_count": 3,
   "metadata": {
    "collapsed": false
   },
   "outputs": [
    {
     "name": "stdout",
     "output_type": "stream",
     "text": [
      "1 rows affected.\n"
     ]
    },
    {
     "data": {
      "text/html": [
       "<table>\n",
       "    <tr>\n",
       "        <th>count(u)</th>\n",
       "    </tr>\n",
       "    <tr>\n",
       "        <td>99482</td>\n",
       "    </tr>\n",
       "</table>"
      ],
      "text/plain": [
       "[[99482]]"
      ]
     },
     "execution_count": 3,
     "metadata": {},
     "output_type": "execute_result"
    }
   ],
   "source": [
    "%cypher match (u:user) return count(u)"
   ]
  },
  {
   "cell_type": "markdown",
   "metadata": {},
   "source": [
    "### Top Tweets"
   ]
  },
  {
   "cell_type": "code",
   "execution_count": 4,
   "metadata": {
    "collapsed": false,
    "scrolled": true
   },
   "outputs": [
    {
     "name": "stdout",
     "output_type": "stream",
     "text": [
      "10 rows affected.\n"
     ]
    },
    {
     "data": {
      "text/html": [
       "<table>\n",
       "    <tr>\n",
       "        <th>user</th>\n",
       "        <th>tid</th>\n",
       "        <th>tweet</th>\n",
       "        <th>deg</th>\n",
       "    </tr>\n",
       "    <tr>\n",
       "        <td>DELAESPRIELLAE</td>\n",
       "        <td>682222059888365570</td>\n",
       "        <td>Los mejores deseos p</td>\n",
       "        <td>3339</td>\n",
       "    </tr>\n",
       "    <tr>\n",
       "        <td>piedadcordoba</td>\n",
       "        <td>676816668736274437</td>\n",
       "        <td>Presidente Chávez: a</td>\n",
       "        <td>1976</td>\n",
       "    </tr>\n",
       "    <tr>\n",
       "        <td>chavezcandanga</td>\n",
       "        <td>243071268004438016</td>\n",
       "        <td>Acompañemos a la her</td>\n",
       "        <td>1697</td>\n",
       "    </tr>\n",
       "    <tr>\n",
       "        <td>AlvaroUribeVel</td>\n",
       "        <td>677100763924078592</td>\n",
       "        <td>1.Es esto paz? Narco</td>\n",
       "        <td>1609</td>\n",
       "    </tr>\n",
       "    <tr>\n",
       "        <td>AndresPastrana_</td>\n",
       "        <td>704006738735984640</td>\n",
       "        <td>Lo tengo. La entiend</td>\n",
       "        <td>1522</td>\n",
       "    </tr>\n",
       "    <tr>\n",
       "        <td>dtavares</td>\n",
       "        <td>678921162513084416</td>\n",
       "        <td>&#x27;gente a miss colomb</td>\n",
       "        <td>1252</td>\n",
       "    </tr>\n",
       "    <tr>\n",
       "        <td>EPN</td>\n",
       "        <td>677020610057265152</td>\n",
       "        <td>Felicito al Presiden</td>\n",
       "        <td>986</td>\n",
       "    </tr>\n",
       "    <tr>\n",
       "        <td>AlvaroUribeVel</td>\n",
       "        <td>705387639155920897</td>\n",
       "        <td>Según ONU Colombia e</td>\n",
       "        <td>958</td>\n",
       "    </tr>\n",
       "    <tr>\n",
       "        <td>RosLehtinen</td>\n",
       "        <td>695398033484152832</td>\n",
       "        <td>¿Deben los contribuy</td>\n",
       "        <td>807</td>\n",
       "    </tr>\n",
       "    <tr>\n",
       "        <td>AlvaroUribeVel</td>\n",
       "        <td>677631504340643841</td>\n",
       "        <td>La paz empieza con e</td>\n",
       "        <td>776</td>\n",
       "    </tr>\n",
       "</table>"
      ],
      "text/plain": [
       "[['DELAESPRIELLAE', '682222059888365570', 'Los mejores deseos p', 3339],\n",
       " ['piedadcordoba', '676816668736274437', 'Presidente Chávez: a', 1976],\n",
       " ['chavezcandanga', '243071268004438016', 'Acompañemos a la her', 1697],\n",
       " ['AlvaroUribeVel', '677100763924078592', '1.Es esto paz? Narco', 1609],\n",
       " ['AndresPastrana_', '704006738735984640', 'Lo tengo. La entiend', 1522],\n",
       " ['dtavares', '678921162513084416', \"'gente a miss colomb\", 1252],\n",
       " ['EPN', '677020610057265152', 'Felicito al Presiden', 986],\n",
       " ['AlvaroUribeVel', '705387639155920897', 'Según ONU Colombia e', 958],\n",
       " ['RosLehtinen', '695398033484152832', '¿Deben los contribuy', 807],\n",
       " ['AlvaroUribeVel', '677631504340643841', 'La paz empieza con e', 776]]"
      ]
     },
     "execution_count": 4,
     "metadata": {},
     "output_type": "execute_result"
    }
   ],
   "source": [
    "%%cypher\n",
    "match (n:tweet)-[r]-()\n",
    "with n, count(r) as deg\n",
    "order by deg desc\n",
    "limit 10\n",
    "match (n)<-[:TWEETS]-(u:user)\n",
    "return u.screen_name as user, n.tid as tid, substring(n.text, 0, 20) as tweet, deg"
   ]
  },
  {
   "cell_type": "markdown",
   "metadata": {},
   "source": [
    "### Top Users"
   ]
  },
  {
   "cell_type": "code",
   "execution_count": 5,
   "metadata": {
    "collapsed": false
   },
   "outputs": [
    {
     "name": "stdout",
     "output_type": "stream",
     "text": [
      "10 rows affected.\n"
     ]
    },
    {
     "data": {
      "text/html": [
       "<table>\n",
       "    <tr>\n",
       "        <th>user</th>\n",
       "        <th>n.uid</th>\n",
       "        <th>deg</th>\n",
       "    </tr>\n",
       "    <tr>\n",
       "        <td>JuanManSantos</td>\n",
       "        <td>64839766</td>\n",
       "        <td>27370</td>\n",
       "    </tr>\n",
       "    <tr>\n",
       "        <td>AlvaroUribeVel</td>\n",
       "        <td>61097151</td>\n",
       "        <td>15092</td>\n",
       "    </tr>\n",
       "    <tr>\n",
       "        <td>omarbula</td>\n",
       "        <td>192538987</td>\n",
       "        <td>10183</td>\n",
       "    </tr>\n",
       "    <tr>\n",
       "        <td>elespectador</td>\n",
       "        <td>14834302</td>\n",
       "        <td>6780</td>\n",
       "    </tr>\n",
       "    <tr>\n",
       "        <td>ELTIEMPO</td>\n",
       "        <td>9633802</td>\n",
       "        <td>6020</td>\n",
       "    </tr>\n",
       "    <tr>\n",
       "        <td>AndresPastrana_</td>\n",
       "        <td>1301761278</td>\n",
       "        <td>5192</td>\n",
       "    </tr>\n",
       "    <tr>\n",
       "        <td>zairsoli</td>\n",
       "        <td>2411508153</td>\n",
       "        <td>5164</td>\n",
       "    </tr>\n",
       "    <tr>\n",
       "        <td>DELAESPRIELLAE</td>\n",
       "        <td>548906668</td>\n",
       "        <td>5019</td>\n",
       "    </tr>\n",
       "    <tr>\n",
       "        <td>piedadcordoba</td>\n",
       "        <td>34798360</td>\n",
       "        <td>4909</td>\n",
       "    </tr>\n",
       "    <tr>\n",
       "        <td>elnuevoherald</td>\n",
       "        <td>34641036</td>\n",
       "        <td>4540</td>\n",
       "    </tr>\n",
       "</table>"
      ],
      "text/plain": [
       "[['JuanManSantos', '64839766', 27370],\n",
       " ['AlvaroUribeVel', '61097151', 15092],\n",
       " ['omarbula', '192538987', 10183],\n",
       " ['elespectador', '14834302', 6780],\n",
       " ['ELTIEMPO', '9633802', 6020],\n",
       " ['AndresPastrana_', '1301761278', 5192],\n",
       " ['zairsoli', '2411508153', 5164],\n",
       " ['DELAESPRIELLAE', '548906668', 5019],\n",
       " ['piedadcordoba', '34798360', 4909],\n",
       " ['elnuevoherald', '34641036', 4540]]"
      ]
     },
     "execution_count": 5,
     "metadata": {},
     "output_type": "execute_result"
    }
   ],
   "source": [
    "%%cypher\n",
    "match (n:user)-[r]-()\n",
    "return n.screen_name as user, n.uid, count(r) as deg\n",
    "order by deg desc\n",
    "limit 10"
   ]
  },
  {
   "cell_type": "markdown",
   "metadata": {},
   "source": [
    "### Top Tags"
   ]
  },
  {
   "cell_type": "code",
   "execution_count": 6,
   "metadata": {
    "collapsed": false
   },
   "outputs": [
    {
     "name": "stdout",
     "output_type": "stream",
     "text": [
      "10 rows affected.\n"
     ]
    },
    {
     "data": {
      "text/html": [
       "<table>\n",
       "    <tr>\n",
       "        <th>hashtags</th>\n",
       "        <th>deg</th>\n",
       "    </tr>\n",
       "    <tr>\n",
       "        <td>colombia</td>\n",
       "        <td>45821</td>\n",
       "    </tr>\n",
       "    <tr>\n",
       "        <td>paz</td>\n",
       "        <td>7753</td>\n",
       "    </tr>\n",
       "    <tr>\n",
       "        <td>farc</td>\n",
       "        <td>5718</td>\n",
       "    </tr>\n",
       "    <tr>\n",
       "        <td>cuba</td>\n",
       "        <td>5062</td>\n",
       "    </tr>\n",
       "    <tr>\n",
       "        <td>venezuela</td>\n",
       "        <td>2464</td>\n",
       "    </tr>\n",
       "    <tr>\n",
       "        <td>lahoradelapaz</td>\n",
       "        <td>2450</td>\n",
       "    </tr>\n",
       "    <tr>\n",
       "        <td>noticias</td>\n",
       "        <td>2265</td>\n",
       "    </tr>\n",
       "    <tr>\n",
       "        <td>siguemeytesigo</td>\n",
       "        <td>2258</td>\n",
       "    </tr>\n",
       "    <tr>\n",
       "        <td>yaracuy</td>\n",
       "        <td>1956</td>\n",
       "    </tr>\n",
       "    <tr>\n",
       "        <td>farcsantismo</td>\n",
       "        <td>1637</td>\n",
       "    </tr>\n",
       "</table>"
      ],
      "text/plain": [
       "[['colombia', 45821],\n",
       " ['paz', 7753],\n",
       " ['farc', 5718],\n",
       " ['cuba', 5062],\n",
       " ['venezuela', 2464],\n",
       " ['lahoradelapaz', 2450],\n",
       " ['noticias', 2265],\n",
       " ['siguemeytesigo', 2258],\n",
       " ['yaracuy', 1956],\n",
       " ['farcsantismo', 1637]]"
      ]
     },
     "execution_count": 6,
     "metadata": {},
     "output_type": "execute_result"
    }
   ],
   "source": [
    "%%cypher\n",
    "match (n:hashtag)-[r]-()\n",
    "return n.hashtag as hashtags, count(r) as deg\n",
    "order by deg desc\n",
    "limit 10"
   ]
  },
  {
   "cell_type": "markdown",
   "metadata": {},
   "source": [
    "### Language data"
   ]
  },
  {
   "cell_type": "code",
   "execution_count": 7,
   "metadata": {
    "collapsed": false
   },
   "outputs": [
    {
     "name": "stdout",
     "output_type": "stream",
     "text": [
      "27 rows affected.\n"
     ]
    }
   ],
   "source": [
    "langs = %cypher match (n:tweet) where n.lang is not null return distinct n.lang, count(*) as num_tweets order by num_tweets desc"
   ]
  },
  {
   "cell_type": "code",
   "execution_count": 8,
   "metadata": {
    "collapsed": false
   },
   "outputs": [
    {
     "data": {
      "text/plain": [
       "<matplotlib.axes._subplots.AxesSubplot at 0x7f12a0c814e0>"
      ]
     },
     "execution_count": 8,
     "metadata": {},
     "output_type": "execute_result"
    },
    {
     "data": {
      "image/png": "[encoded data removed]",
      "text/plain": [
       "<matplotlib.figure.Figure at 0x7f12a0c85160>"
      ]
     },
     "metadata": {},
     "output_type": "display_data"
    }
   ],
   "source": [
    "lang_df = langs.get_dataframe()\n",
    "lang_df.set_index(\"n.lang\")[:10].plot(kind=\"bar\")"
   ]
  },
  {
   "cell_type": "markdown",
   "metadata": {},
   "source": [
    "### % of tweets with geotags"
   ]
  },
  {
   "cell_type": "code",
   "execution_count": 9,
   "metadata": {
    "collapsed": false
   },
   "outputs": [
    {
     "name": "stdout",
     "output_type": "stream",
     "text": [
      "1 rows affected.\n"
     ]
    },
    {
     "data": {
      "text/html": [
       "<table>\n",
       "    <tr>\n",
       "        <th>count(n)</th>\n",
       "    </tr>\n",
       "    <tr>\n",
       "        <td>337174</td>\n",
       "    </tr>\n",
       "</table>"
      ],
      "text/plain": [
       "[[337174]]"
      ]
     },
     "execution_count": 9,
     "metadata": {},
     "output_type": "execute_result"
    }
   ],
   "source": [
    "%cypher match (n:tweet) return count(n)"
   ]
  },
  {
   "cell_type": "code",
   "execution_count": 10,
   "metadata": {
    "collapsed": false
   },
   "outputs": [
    {
     "name": "stdout",
     "output_type": "stream",
     "text": [
      "1 rows affected.\n"
     ]
    },
    {
     "data": {
      "text/html": [
       "<table>\n",
       "    <tr>\n",
       "        <th>count(n)</th>\n",
       "    </tr>\n",
       "    <tr>\n",
       "        <td>5213</td>\n",
       "    </tr>\n",
       "</table>"
      ],
      "text/plain": [
       "[[5213]]"
      ]
     },
     "execution_count": 10,
     "metadata": {},
     "output_type": "execute_result"
    }
   ],
   "source": [
    "%cypher match (n:tweet) where n.coordinates is not null return count(n)"
   ]
  },
  {
   "cell_type": "code",
   "execution_count": 11,
   "metadata": {
    "collapsed": false
   },
   "outputs": [
    {
     "data": {
      "text/plain": [
       "0.01546085997140942"
      ]
     },
     "execution_count": 11,
     "metadata": {},
     "output_type": "execute_result"
    }
   ],
   "source": [
    "5213 / 337174.0  # 1.5%"
   ]
  },
  {
   "cell_type": "markdown",
   "metadata": {},
   "source": [
    "### Tweets by country"
   ]
  },
  {
   "cell_type": "code",
   "execution_count": 12,
   "metadata": {
    "collapsed": false
   },
   "outputs": [
    {
     "name": "stdout",
     "output_type": "stream",
     "text": [
      "37 rows affected.\n"
     ]
    }
   ],
   "source": [
    "countries = %cypher match (n:tweet) where n.coordinates is not null return distinct n.country, count(*) as num_tweets order by num_tweets desc"
   ]
  },
  {
   "cell_type": "code",
   "execution_count": 14,
   "metadata": {
    "collapsed": false
   },
   "outputs": [],
   "source": [
    "countries_df = countries.get_dataframe()"
   ]
  },
  {
   "cell_type": "code",
   "execution_count": 15,
   "metadata": {
    "collapsed": false
   },
   "outputs": [
    {
     "data": {
      "text/plain": [
       "<matplotlib.axes._subplots.AxesSubplot at 0x7f12a0851d68>"
      ]
     },
     "execution_count": 15,
     "metadata": {},
     "output_type": "execute_result"
    },
    {
     "data": {
      "image/png": "[encoded data removed]",
      "text/plain": [
       "<matplotlib.figure.Figure at 0x7f12a08bfcc0>"
      ]
     },
     "metadata": {},
     "output_type": "display_data"
    }
   ],
   "source": [
    "countries_df.set_index(\"n.country\")[:20].plot(kind=\"bar\")"
   ]
  },
  {
   "cell_type": "code",
   "execution_count": null,
   "metadata": {
    "collapsed": true
   },
   "outputs": [],
   "source": []
  }
 ],
 "metadata": {
  "kernelspec": {
   "display_name": "Python 3",
   "language": "python",
   "name": "python3"
  },
  "language_info": {
   "codemirror_mode": {
    "name": "ipython",
    "version": 3
   },
   "file_extension": ".py",
   "mimetype": "text/x-python",
   "name": "python",
   "nbconvert_exporter": "python",
   "pygments_lexer": "ipython3",
   "version": "3.4.3"
  }
 },
 "nbformat": 4,
 "nbformat_minor": 0
}
